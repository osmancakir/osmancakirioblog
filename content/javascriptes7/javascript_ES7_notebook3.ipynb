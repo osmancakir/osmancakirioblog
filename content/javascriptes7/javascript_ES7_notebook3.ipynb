{
 "cells": [
  {
   "cell_type": "raw",
   "metadata": {},
   "source": [
    "---\n",
    "title: \"Javascript ES7 Learning Notebooks - 3\"\n",
    "author: \"Osman Cakir\"\n",
    "date: 2019-07-04\n",
    "description: \"Javascript ES7 Functionalities\"\n",
    "type: technical_note\n",
    "draft: false\n",
    "---"
   ]
  },
  {
   "cell_type": "markdown",
   "metadata": {},
   "source": [
    "The first 2 notebooks were actually the basics of javascript. The 3rd and 4th notebooks are more focused on new functionalities of ES7 and some advanced programming in JS."
   ]
  },
  {
   "cell_type": "markdown",
   "metadata": {},
   "source": [
    "# Contents\n",
    "\n",
    "     11 - Build Javascript Objects [3rd Notebook]\n",
    "             * Manipulate Complex Objects in JS\n",
    "     12 - Loops\n",
    "             * while Loop\n",
    "             * for Loop\n",
    "             * Nested for Loop\n",
    "             * Do While Loops\n",
    "     13 - Generate Random Numbers \n",
    "             * parseInt()\n",
    "     14 - The Conditional (Ternary) Operator\n",
    "     15 - Let and Const Variable Declaration in Detail\n",
    "     16 - Specify a Default Value For a Function\n",
    "     17 - Rest Operator\n",
    "     18 - Spread Operator"
   ]
  },
  {
   "cell_type": "code",
   "execution_count": 2,
   "metadata": {},
   "outputs": [],
   "source": [
    "#!pip install pixiedust\n",
    "#!pip install pixiedust_node"
   ]
  },
  {
   "cell_type": "code",
   "execution_count": 1,
   "metadata": {},
   "outputs": [
    {
     "name": "stdout",
     "output_type": "stream",
     "text": [
      "Pixiedust database opened successfully\n"
     ]
    },
    {
     "data": {
      "text/html": [
       "\n",
       "        <div style=\"margin:10px\">\n",
       "            <a href=\"https://github.com/ibm-watson-data-lab/pixiedust\" target=\"_new\">\n",
       "                <img src=\"https://github.com/ibm-watson-data-lab/pixiedust/raw/master/docs/_static/pd_icon32.png\" style=\"float:left;margin-right:10px\"/>\n",
       "            </a>\n",
       "            <span>Pixiedust version 1.1.17</span>\n",
       "        </div>\n",
       "        "
      ],
      "text/plain": [
       "<IPython.core.display.HTML object>"
      ]
     },
     "metadata": {},
     "output_type": "display_data"
    },
    {
     "data": {
      "text/html": [
       "\n",
       "            <div style=\"margin:10px\"> \n",
       "            <a href=\"https://github.com/ibm-cds-labs/pixiedust_node\" target=\"_new\"> \n",
       "            <img src=\"https://github.com/ibm-cds-labs/pixiedust_node/raw/master/docs/_images/pdn_icon32.png\" style=\"float:left;margin-right:10px\"/> \n",
       "            </a> \n",
       "            <span>Pixiedust Node.js</span> \n",
       "            </div> \n"
      ],
      "text/plain": [
       "<IPython.core.display.HTML object>"
      ]
     },
     "metadata": {},
     "output_type": "display_data"
    },
    {
     "name": "stdout",
     "output_type": "stream",
     "text": [
      "pixiedust_node 0.2.5 started. Cells starting '%%node' may contain Node.js code.\n"
     ]
    }
   ],
   "source": [
    "import pixiedust\n",
    "import pixiedust_node"
   ]
  },
  {
   "cell_type": "markdown",
   "metadata": {},
   "source": [
    "## 11 - Build Javascript Objects \n",
    "    - very similar to dictionaries in Python!. \n",
    "    - Keys are called properties. \n",
    "    - Values are called values.\n",
    "    - you can access its properties with dot. notation\n",
    "    - you can also access with bracket notatiton.\n",
    "    - Accessing Object Properties with variables: \n",
    "        - With bracket notation you can also access an object's property with a variable\n",
    "    - Updating the properties in a javascript object: \n",
    "        - you can do that with dot. notation\n",
    "    - Adding new propoerties to an js object: \n",
    "        - you can do that with dot notation or bracket notation\n",
    "    - Deleting the propoerties to a js object: \n",
    "        delete keyword with dot notation\n",
    "    - You can use objects to lookup instead of writing gigantic switch cases. \n",
    "    -Testing objects for Properties\n",
    "        - hasOwnProperty() method.\n"
   ]
  },
  {
   "cell_type": "code",
   "execution_count": 16,
   "metadata": {},
   "outputs": [
    {
     "name": "stdout",
     "output_type": "stream",
     "text": [
      "... ... ... ... ... ... ...\n"
     ]
    }
   ],
   "source": [
    "%%node\n",
    "var ourDog = {\n",
    "    \"name\": \"Leo\", \n",
    "    \"legs\": 4,\n",
    "    \"tails\":1,\n",
    "    \"friends\": [\"everything\"],\n",
    "    \"the drink\": \"water\",\n",
    "    12 : \"number\"\n",
    "};"
   ]
  },
  {
   "cell_type": "code",
   "execution_count": 17,
   "metadata": {},
   "outputs": [
    {
     "name": "stdout",
     "output_type": "stream",
     "text": [
      "{ '12': 'number',\n",
      "name: 'Happy Leo',\n",
      "legs: 4,\n",
      "tails: 1,\n",
      "friends: [ 'everything' ],\n",
      "'the drink': 'water',\n",
      "bark: 'woof',\n",
      "level: 45 }\n"
     ]
    }
   ],
   "source": [
    "%%node\n",
    "var legs = ourDog.legs // access with dot\n",
    "var drinks = ourDog[\"the drink\"]; // access with brackets\n",
    "var playerNumber = 12; // access with a variable equal to one of the keys\n",
    "var player = ourDog[playerNumber];\n",
    "ourDog.name = \"Happy Leo\" // updating\n",
    "ourDog.bark = \"woof\" // adding\n",
    "ourDog['level'] =  45 // adding\n",
    "// delete ourDog.level;\n",
    "console.log(ourDog)"
   ]
  },
  {
   "cell_type": "code",
   "execution_count": 30,
   "metadata": {},
   "outputs": [
    {
     "name": "stdout",
     "output_type": "stream",
     "text": [
      "... ... ..... ..... ..... ... ... ...\n",
      "adam\n"
     ]
    }
   ],
   "source": [
    "%%node\n",
    "function phoneticLookUp(val) { //lookup example\n",
    "    var result = \"\"\n",
    "    var lookup = {\n",
    "        \"alpha\": \"adam\",\n",
    "        \"bravo\": \"boston\"\n",
    "    }\n",
    "    result = lookup[val];\n",
    "    return result;\n",
    "}\n",
    "console.log(phoneticLookUp(\"alpha\"))\n"
   ]
  },
  {
   "cell_type": "code",
   "execution_count": 31,
   "metadata": {},
   "outputs": [
    {
     "name": "stdout",
     "output_type": "stream",
     "text": [
      "... ..... ..... ... ..... ..... ...\n",
      "1\n",
      "\n"
     ]
    }
   ],
   "source": [
    "%%node\n",
    "function checkObj(checkProp) { // checking propoerties\n",
    "    if (ourDog.hasOwnProperty(checkProp)) {\n",
    "        return ourDog[checkProp]         \n",
    "        }\n",
    "         else {\n",
    "            return \"not found\"\n",
    "        }\n",
    "}\n",
    "console.log(checkObj(\"tails\"))"
   ]
  },
  {
   "cell_type": "markdown",
   "metadata": {},
   "source": [
    "### Manipulating Complex Objects in js\n",
    "    - flexible complex data storage units\n",
    "    - very similar to JSON files.\n",
    "    - below we see an array with objects in it.  \n",
    "    - Accessing nested objects in objects is possible with dot.dot notation."
   ]
  },
  {
   "cell_type": "code",
   "execution_count": 32,
   "metadata": {},
   "outputs": [
    {
     "name": "stdout",
     "output_type": "stream",
     "text": [
      "... ... ... ... ... ... ... ... ... ... ... ... ... ...\n",
      "2009\n",
      "\n"
     ]
    }
   ],
   "source": [
    "%%node\n",
    "var myMusic = [\n",
    "    {\n",
    "        \"artist\": \"Billy Joel\",\n",
    "        \"title\": \"Piano Man\",\n",
    "        \"release_year\": 1973,\n",
    "        \"formats\": [\"CD\", \"ST\", \"LP\"], \n",
    "        \"gold\": true\n",
    "    },{\n",
    "        \"artist\": \"Bobby\",\n",
    "        \"title\": \"Creal\",\n",
    "        \"release_year\": 2009,\n",
    "        \"formats\": [\"youtube videos\"], \n",
    "        \"gold\": true\n",
    "    }\n",
    "]\n",
    "\n",
    "var secondTree = myMusic[1].release_year // accessing obj. property nested in an array. \n",
    "console.log(secondTree) // combine bracket and dot notation."
   ]
  },
  {
   "cell_type": "markdown",
   "metadata": {},
   "source": [
    "## 12 -  Loops\n",
    "    - while loop\n",
    "    - for loop [3 components: initilization(usually a variable) ; condition ; final expression)]\n",
    "    - nested for loops\n",
    "    - do while loops: runs at least ones the code before checking the condition"
   ]
  },
  {
   "cell_type": "code",
   "execution_count": 33,
   "metadata": {},
   "outputs": [
    {
     "name": "stdout",
     "output_type": "stream",
     "text": [
      "... ... ...\n",
      "[ 0, 1, 2, 3, 4 ]\n",
      "\n"
     ]
    }
   ],
   "source": [
    "%%node\n",
    "var myArray = [];\n",
    "var i = 0\n",
    "while (i<5) {\n",
    "    myArray.push(i);\n",
    "    i++;\n",
    "}\n",
    "\n",
    "console.log(myArray)"
   ]
  },
  {
   "cell_type": "code",
   "execution_count": 34,
   "metadata": {},
   "outputs": [
    {
     "name": "stdout",
     "output_type": "stream",
     "text": [
      "... ...\n",
      "[ 0, 1, 2, 3, 4, 5, 6, 7 ]\n",
      "\n"
     ]
    }
   ],
   "source": [
    "%%node\n",
    "var myArray2 = [];\n",
    "for (var i =0; i < 8; i++) { // for loop example\n",
    "    myArray2.push(i);\n",
    "}\n",
    "console.log(myArray2)"
   ]
  },
  {
   "cell_type": "code",
   "execution_count": 35,
   "metadata": {},
   "outputs": [
    {
     "name": "stdout",
     "output_type": "stream",
     "text": [
      "... ...\n",
      "20\n",
      "\n"
     ]
    }
   ],
   "source": [
    "%%node\n",
    "var myArray3 = [2,3,4,5,6]; // another for loop example with iteration on an array.\n",
    "var total= 0;\n",
    "for (var i = 0 ; i < myArray3.length; i++){\n",
    "    total += myArray3[i]\n",
    "}\n",
    "console.log(total)"
   ]
  },
  {
   "cell_type": "code",
   "execution_count": 36,
   "metadata": {},
   "outputs": [
    {
     "name": "stdout",
     "output_type": "stream",
     "text": [
      "... ... ..... ....... ....... ..... ... ...\n",
      "5040\n",
      "\n"
     ]
    }
   ],
   "source": [
    "%%node\n",
    "function multiplyAll(arr) { // nested for loops\n",
    "    var product = 1 \n",
    "    for (var i = 0; i < arr.length; i++){\n",
    "        for (var j = 0; j< arr[i].length; j++){\n",
    "            product *= arr[i][j]\n",
    "        }\n",
    "    }\n",
    "return product\n",
    "}\n",
    "\n",
    "var product = multiplyAll([[1,2], [3,4], [5,6,7]])\n",
    "console.log(product)"
   ]
  },
  {
   "cell_type": "code",
   "execution_count": 37,
   "metadata": {},
   "outputs": [
    {
     "name": "stdout",
     "output_type": "stream",
     "text": [
      "... ... ... ... ...\n",
      "11 [ 10 ]\n"
     ]
    }
   ],
   "source": [
    "%%node\n",
    "var myArray4 = []\n",
    "var i = 10\n",
    "\n",
    "do { // do while loop example!\n",
    "    myArray4.push(i)\n",
    "    i++;}\n",
    "    while (i<5) {\n",
    "        myArray.push(i)\n",
    "    }\n",
    "console.log(i, myArray4)"
   ]
  },
  {
   "cell_type": "markdown",
   "metadata": {},
   "source": [
    "## 13 - Generate Random Functions "
   ]
  },
  {
   "cell_type": "code",
   "execution_count": 38,
   "metadata": {},
   "outputs": [
    {
     "name": "stdout",
     "output_type": "stream",
     "text": [
      "... ...\n",
      "0.20582776591657392\n",
      "\n"
     ]
    }
   ],
   "source": [
    "%%node\n",
    "function randomFraction() {\n",
    "    return Math.random(); //generates a random number between 0 and 1\n",
    "}\n",
    "console.log(randomFraction());"
   ]
  },
  {
   "cell_type": "code",
   "execution_count": 19,
   "metadata": {},
   "outputs": [
    {
     "name": "stdout",
     "output_type": "stream",
     "text": [
      "... ...\n",
      "0.3352099482101052\n",
      "\n",
      "17\n",
      "\n"
     ]
    }
   ],
   "source": [
    "%%node\n",
    "var randomNumberBetween0and19 = Math.floor(Math.floor(Math.random()*20)) //Math.floor rounds up\n",
    "function randomWholeNum() {\n",
    "    return Math.random();\n",
    "}\n",
    "console.log(randomWholeNum());\n",
    "console.log(randomNumberBetween0and19)"
   ]
  },
  {
   "cell_type": "markdown",
   "metadata": {},
   "source": [
    "### parseInt() Function\n",
    "    - takes a string and returns an integer\n",
    "    - radix argument tells us the base. default base is 10"
   ]
  },
  {
   "cell_type": "code",
   "execution_count": 40,
   "metadata": {},
   "outputs": [
    {
     "name": "stdout",
     "output_type": "stream",
     "text": [
      "... ...\n",
      "19\n",
      "\n"
     ]
    }
   ],
   "source": [
    "%%node\n",
    "function convertToInteger(str) {\n",
    "    return parseInt(str,2) // 2 is the base ; radix argument\n",
    "}\n",
    "console.log(convertToInteger(\"10011\"))"
   ]
  },
  {
   "cell_type": "markdown",
   "metadata": {},
   "source": [
    " ## 14 - The Conditional (Ternary) Operator\n",
    "    - condition ? statement-if-true : statement-if-false;\n",
    "    - multiple conditions are possible"
   ]
  },
  {
   "cell_type": "code",
   "execution_count": 41,
   "metadata": {},
   "outputs": [
    {
     "name": "stdout",
     "output_type": "stream",
     "text": [
      "... ... ...\n",
      "false\n",
      "\n"
     ]
    }
   ],
   "source": [
    "%%node\n",
    "function checkEqual(a,b) {\n",
    "    return a === b ? true : false;\n",
    "    \n",
    "}\n",
    "console.log(checkEqual(1,2))"
   ]
  },
  {
   "cell_type": "code",
   "execution_count": 42,
   "metadata": {},
   "outputs": [
    {
     "name": "stdout",
     "output_type": "stream",
     "text": [
      "... ...\n",
      "zero\n"
     ]
    }
   ],
   "source": [
    "%%node\n",
    "function checkSign(num) {\n",
    "    return num > 0 ? \"positive\" : num < 0 ? \"negative\" : \"zero\" // multiple conditions\n",
    "}\n",
    "console.log(checkSign(0))"
   ]
  },
  {
   "cell_type": "markdown",
   "metadata": {},
   "source": [
    "## 15 - let and const variable declaration in more detail\n",
    "\n",
    "- with ES6 it is possible to declare variables with let and const\n",
    "- let : only allows you declare a variable once. you can not declare it with the same name twice. you can set it twice though. you can reassign it.\n",
    "- let is only limited to block scope so your variable can be accessed only inside a block of a code. {} : is a block scope means\n",
    "- const is a read only variable decleration meaning you can not reassign it. but you can mutate if const is an array using [] notation.\n",
    "- by convention const are ALLCAPITALS\n"
   ]
  },
  {
   "cell_type": "code",
   "execution_count": 44,
   "metadata": {},
   "outputs": [
    {
     "name": "stdout",
     "output_type": "stream",
     "text": [
      "... ... ... ..... ..... ...\n",
      "art is cool\n",
      "art is cool\n"
     ]
    }
   ],
   "source": [
    "%%node\n",
    "function printManyTimes(str) {\n",
    "    \"use strict\"; // catches common coding mistakes. such as if you create a varible but don't declare it.\n",
    "    const SENTENCE = str + \" is cool\";\n",
    "    for(let i = 0; i< str.length; i+=2){\n",
    "        console.log(SENTENCE)\n",
    "    }\n",
    "}\n",
    "printManyTimes(\"art\")"
   ]
  },
  {
   "cell_type": "markdown",
   "metadata": {},
   "source": [
    "#### Prevent Object Mutation\n",
    "- Object.freeze(MATH_CONSTANTS) will prevent any kind of mutation on your variable. put it somewhere in your function."
   ]
  },
  {
   "cell_type": "markdown",
   "metadata": {},
   "source": [
    "## 16 - Arrow functions to write concise Anonymous Functions\n",
    "\n",
    "- below function is an anonymous function. it is assigned to a variable but it doesn't have a name."
   ]
  },
  {
   "cell_type": "code",
   "execution_count": 45,
   "metadata": {},
   "outputs": [
    {
     "name": "stdout",
     "output_type": "stream",
     "text": [
      "... ...\n"
     ]
    }
   ],
   "source": [
    "%%node\n",
    "var magic = function() {\n",
    "    return new Date();\n",
    "}"
   ]
  },
  {
   "cell_type": "markdown",
   "metadata": {},
   "source": [
    "- you can convert an anon function to an arrow function as shown below =>"
   ]
  },
  {
   "cell_type": "code",
   "execution_count": 46,
   "metadata": {},
   "outputs": [
    {
     "name": "stdout",
     "output_type": "stream",
     "text": [
      "... ...\n"
     ]
    }
   ],
   "source": [
    "%%node\n",
    "var magic2 = () => {\n",
    "    return new Date()\n",
    "}"
   ]
  },
  {
   "cell_type": "markdown",
   "metadata": {},
   "source": [
    "- you can even shorten this arrow function as shown below."
   ]
  },
  {
   "cell_type": "code",
   "execution_count": 47,
   "metadata": {},
   "outputs": [],
   "source": [
    "%%node\n",
    "const MAGIC3 = () => new Date();"
   ]
  },
  {
   "cell_type": "code",
   "execution_count": 48,
   "metadata": {},
   "outputs": [
    {
     "name": "stdout",
     "output_type": "stream",
     "text": [
      "... ...\n",
      "[ 1, 2, 3, 4, 5 ]\n",
      "\n"
     ]
    }
   ],
   "source": [
    "%%node\n",
    "var myConcat = (arr1, arr2) => arr1.concat(arr2);\n",
    "var myConcat1 = (arr1, arr2) => { //the same as above\n",
    "    return arr1.concat(arr2);\n",
    "}\n",
    "console.log(myConcat1([1,2], [3,4,5]))"
   ]
  },
  {
   "cell_type": "markdown",
   "metadata": {},
   "source": [
    "### High Order Arrow Functions\n",
    "    - map, filter and reduce are high order functions. \n",
    "    - they take functions as arguments for processing collections of data"
   ]
  },
  {
   "cell_type": "code",
   "execution_count": 49,
   "metadata": {},
   "outputs": [
    {
     "name": "stdout",
     "output_type": "stream",
     "text": [
      "... ... ...\n",
      "[ 16, 1764, 36 ]\n",
      "\n"
     ]
    }
   ],
   "source": [
    "%%node\n",
    "const REALNUMBERARRAY = [4,5.6,-9.8, 3.14,42, 6, 8.34]\n",
    "\n",
    "const SQUARELIST = (arr) => {\n",
    "    const SQUAREDINTEGERS = arr.filter( num => Number.isInteger(num) && num > 0).map(x => x*x)\n",
    "    return SQUAREDINTEGERS\n",
    "}\n",
    "const SQUAREDINTEGERS = SQUARELIST(REALNUMBERARRAY)\n",
    "console.log(SQUAREDINTEGERS)"
   ]
  },
  {
   "cell_type": "markdown",
   "metadata": {},
   "source": [
    "## 16 - Specify a Default Value For a Function\n",
    "    - function fede(number, value = 1) value is set to 1 by default even if it is not passed it \n",
    "    - console.log(fede(5,2)) sets the value = 2 \n",
    "    - console.log(fede(5)) sets the value =1 bcs it is the default value."
   ]
  },
  {
   "cell_type": "markdown",
   "metadata": {},
   "source": [
    "## 17 - Rest Operator\n",
    "    - allows you to create functions that can take variable number of arguments\n",
    "    - ....args is the notation"
   ]
  },
  {
   "cell_type": "markdown",
   "metadata": {},
   "source": [
    "## 18 - Spread Operator\n",
    "    - basically a way to copy arrays. the changes on the copied won't effect the original array. \n",
    "    - arr1 = [...arr2] is the notation."
   ]
  },
  {
   "cell_type": "code",
   "execution_count": null,
   "metadata": {},
   "outputs": [],
   "source": []
  }
 ],
 "metadata": {
  "kernelspec": {
   "display_name": "Python 3",
   "language": "python",
   "name": "python3"
  },
  "language_info": {
   "codemirror_mode": {
    "name": "ipython",
    "version": 3
   },
   "file_extension": ".py",
   "mimetype": "text/x-python",
   "name": "python",
   "nbconvert_exporter": "python",
   "pygments_lexer": "ipython3",
   "version": "3.7.1"
  }
 },
 "nbformat": 4,
 "nbformat_minor": 2
}
