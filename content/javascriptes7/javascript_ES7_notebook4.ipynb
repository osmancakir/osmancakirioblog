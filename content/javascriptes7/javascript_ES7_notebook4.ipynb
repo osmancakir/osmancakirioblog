{
 "cells": [
  {
   "cell_type": "raw",
   "metadata": {},
   "source": [
    "---\n",
    "title: \"Javascript ES7 Learning Notebooks - 4\"\n",
    "author: \"Osman Cakir\"\n",
    "date: 2019-07-04\n",
    "description: \"Javascript ES7 Functionalities\"\n",
    "type: technical_note\n",
    "draft: false\n",
    "---"
   ]
  },
  {
   "cell_type": "markdown",
   "metadata": {},
   "source": [
    "This is going to be the last notebook for our small project about learning JS and ES7 functionalities. Hope you enjoyed learning it. "
   ]
  },
  {
   "cell_type": "code",
   "execution_count": 2,
   "metadata": {},
   "outputs": [],
   "source": [
    "#!pip install pixiedust\n",
    "#!pip install pixiedust_node"
   ]
  },
  {
   "cell_type": "code",
   "execution_count": 1,
   "metadata": {},
   "outputs": [
    {
     "name": "stdout",
     "output_type": "stream",
     "text": [
      "Pixiedust database opened successfully\n"
     ]
    },
    {
     "data": {
      "text/html": [
       "\n",
       "        <div style=\"margin:10px\">\n",
       "            <a href=\"https://github.com/ibm-watson-data-lab/pixiedust\" target=\"_new\">\n",
       "                <img src=\"https://github.com/ibm-watson-data-lab/pixiedust/raw/master/docs/_static/pd_icon32.png\" style=\"float:left;margin-right:10px\"/>\n",
       "            </a>\n",
       "            <span>Pixiedust version 1.1.17</span>\n",
       "        </div>\n",
       "        "
      ],
      "text/plain": [
       "<IPython.core.display.HTML object>"
      ]
     },
     "metadata": {},
     "output_type": "display_data"
    },
    {
     "data": {
      "text/html": [
       "\n",
       "            <div style=\"margin:10px\"> \n",
       "            <a href=\"https://github.com/ibm-cds-labs/pixiedust_node\" target=\"_new\"> \n",
       "            <img src=\"https://github.com/ibm-cds-labs/pixiedust_node/raw/master/docs/_images/pdn_icon32.png\" style=\"float:left;margin-right:10px\"/> \n",
       "            </a> \n",
       "            <span>Pixiedust Node.js</span> \n",
       "            </div> \n"
      ],
      "text/plain": [
       "<IPython.core.display.HTML object>"
      ]
     },
     "metadata": {},
     "output_type": "display_data"
    },
    {
     "name": "stdout",
     "output_type": "stream",
     "text": [
      "pixiedust_node 0.2.5 started. Cells starting '%%node' may contain Node.js code.\n"
     ]
    }
   ],
   "source": [
    "import pixiedust\n",
    "import pixiedust_node"
   ]
  },
  {
   "cell_type": "markdown",
   "metadata": {},
   "source": [
    "# Contents\n",
    "\n",
    "\n",
    "     19 - Destructuring Assignment to Assign Variables from Objects\n",
    "             * Change the order of elements in arrays with destructuring\n",
    "             * Another use of Destructuring\n",
    "             * Destructuring Assignment to Pass an Object as a Function's Parameters\n",
    "     20 - Create Literals Using Template Literals \n",
    "     21 - Write Concise Object Literal Declerations Using Simple Fields\n",
    "     22 - Write Concise Declarative Functions\n",
    "     23 - Using class Syntax to Define a Constructor Function\n",
    "     24 - Use getters and setters to Control Access to an Object\n",
    "     25 - Import and Export vs Require"
   ]
  },
  {
   "cell_type": "markdown",
   "metadata": {},
   "source": [
    "## 19 - Destructuring Assignment to Assign Variables from Objects"
   ]
  },
  {
   "cell_type": "code",
   "execution_count": 21,
   "metadata": {},
   "outputs": [],
   "source": [
    "%%node\n",
    "var voxel = {x:3.6, y:7.4, z:6.54}; \n",
    "var x = voxel.x\n",
    "var y = voxel.y\n",
    "var z = voxel.z // old way to assign an js object's properties to variables"
   ]
  },
  {
   "cell_type": "code",
   "execution_count": null,
   "metadata": {},
   "outputs": [],
   "source": [
    "%%node\n",
    "const { x: a, z: b, k:c } = voxel // "
   ]
  },
  {
   "cell_type": "code",
   "execution_count": null,
   "metadata": {},
   "outputs": [],
   "source": [
    "%%node\n",
    "// you can also use destructuring assignment with arrays \n",
    "const [z,x,,y] = [1,2,3,4,5,6]; // will take 1,2 and 4. 3 is skipped with a comma. assignment follows order\n",
    "console.log(z,x,y)"
   ]
  },
  {
   "cell_type": "markdown",
   "metadata": {},
   "source": [
    "### Change the order of elements in arrays with destructuring"
   ]
  },
  {
   "cell_type": "code",
   "execution_count": 2,
   "metadata": {},
   "outputs": [
    {
     "name": "stdout",
     "output_type": "stream",
     "text": [
      "... ... ...\n",
      "8\n",
      "\n",
      "6\n",
      "\n"
     ]
    }
   ],
   "source": [
    "%%node\n",
    "let a1 = 8, b1 = 6;\n",
    "(() => {\n",
    "    \"use strict\"\n",
    "    [a1,b1] = [b1,a1]\n",
    "})()\n",
    "console.log(a1)\n",
    "console.log(b1)"
   ]
  },
  {
   "cell_type": "markdown",
   "metadata": {},
   "source": [
    "### Another use of Destructuring"
   ]
  },
  {
   "cell_type": "code",
   "execution_count": 54,
   "metadata": {},
   "outputs": [
    {
     "name": "stdout",
     "output_type": "stream",
     "text": [
      "... ... ...\n",
      "[ 3, 4, 5, 6, 7, 8, 9, 10 ]\n",
      "\n"
     ]
    }
   ],
   "source": [
    "%%node\n",
    "const source = [1,2,3,4,5,6,7,8,9,10];\n",
    "function removeFirstTwo(list) {\n",
    "    const [, , ...arr] = list; //spread operator used to copy the rest. \n",
    "    return arr;\n",
    "}\n",
    "const arr = removeFirstTwo(source);\n",
    "console.log(arr)"
   ]
  },
  {
   "cell_type": "markdown",
   "metadata": {},
   "source": [
    "### Destructuring Assignment to Pass an Object as a Function's Parameters\n",
    "\n",
    "Below stats object passed in wholely but we use only two elements in half() function.  Insted of doing it like this we can pass in object destructuring directly inside the half function and so do not need to pull all the objects data but get only the data we need"
   ]
  },
  {
   "cell_type": "code",
   "execution_count": 55,
   "metadata": {},
   "outputs": [
    {
     "name": "stdout",
     "output_type": "stream",
     "text": [
      "... ... ... ...\n",
      "... ..... ..... ...\n",
      "28.375\n",
      "\n"
     ]
    }
   ],
   "source": [
    "%%node\n",
    "const stats = {\n",
    "    max : 56,\n",
    "    median: 34,\n",
    "    min: 0.75 \n",
    "}\n",
    "const half = (function() {\n",
    "    return function half(stats) {\n",
    "        return (stats.max + stats.min) / 2.0\n",
    "    }\n",
    "})();\n",
    "\n",
    "console.log(half(stats))"
   ]
  },
  {
   "cell_type": "markdown",
   "metadata": {},
   "source": [
    "Now we will only get the max and min elements when stats object is passed in to the half() function. This is especially important with API calls. When you are getting information from an AJAX request or API request it will often will have lot more information than what you need. and you can use destructuring to get the only things you want!"
   ]
  },
  {
   "cell_type": "code",
   "execution_count": 3,
   "metadata": {},
   "outputs": [
    {
     "name": "stdout",
     "output_type": "stream",
     "text": [
      "... ... ... ...\n",
      "... ..... ..... ...\n",
      "28.375\n",
      "\n"
     ]
    }
   ],
   "source": [
    "%%node\n",
    " const stats1 = {\n",
    "    max : 56,\n",
    "    median: 34,\n",
    "    min: 0.75 \n",
    "}\n",
    "const half = (function() {\n",
    "    return function half({ max, min }) {\n",
    "        return (stats1.max + stats1.min) / 2.0\n",
    "    }\n",
    "})();\n",
    "\n",
    "console.log(half(stats1))"
   ]
  },
  {
   "cell_type": "markdown",
   "metadata": {},
   "source": [
    "## 20 - Create Literals Using Template Literals \n",
    "- Use back ticks \\``\n",
    "- Multi line strings are possible\n",
    "- You don't need to escape double or single quaotation marks in your strings\n",
    "- You can put variables right inside the strings with `${person.name}` for example. person is an object and name is an   element of this object in\n",
    "  this example"
   ]
  },
  {
   "cell_type": "markdown",
   "metadata": {},
   "source": [
    "## 21 - Write Concise Object Literal Declerations Using Simple Fields"
   ]
  },
  {
   "cell_type": "code",
   "execution_count": 57,
   "metadata": {},
   "outputs": [
    {
     "name": "stdout",
     "output_type": "stream",
     "text": [
      "... ..... ..... ..... ..... ...\n"
     ]
    }
   ],
   "source": [
    "%%node\n",
    "  const createPerson = (name, age, gender) => {\n",
    "        return {\n",
    "            name: name, \n",
    "            age: age,\n",
    "            gender: gender\n",
    "        }\n",
    "    }"
   ]
  },
  {
   "cell_type": "markdown",
   "metadata": {},
   "source": [
    "above was the way we learned to create a js object with a function. \n",
    "instead of this we can do also "
   ]
  },
  {
   "cell_type": "code",
   "execution_count": 4,
   "metadata": {},
   "outputs": [],
   "source": [
    "%%node\n",
    "const createPerson1 = (name, age, gender) => ({name,age,gender})"
   ]
  },
  {
   "cell_type": "markdown",
   "metadata": {},
   "source": [
    "## 22 - Write Concise Declarative Functions "
   ]
  },
  {
   "cell_type": "code",
   "execution_count": 5,
   "metadata": {},
   "outputs": [
    {
     "name": "stdout",
     "output_type": "stream",
     "text": [
      "... ... ..... ..... ..... ...\n"
     ]
    }
   ],
   "source": [
    "%%node\n",
    "const bicycle = {\n",
    "    gear: 2,\n",
    "    setGear: function(newGear) {\n",
    "        \"use strict\";\n",
    "        this.gear = newGear;\n",
    "    }\n",
    "}\n",
    "bicycle.setGear(3)"
   ]
  },
  {
   "cell_type": "markdown",
   "metadata": {},
   "source": [
    "we can also do this without calling function! "
   ]
  },
  {
   "cell_type": "code",
   "execution_count": 6,
   "metadata": {},
   "outputs": [],
   "source": [
    "%%node\n",
    "const bicycle = {\n",
    "    gear: 2,\n",
    "    setGear:(newGear) {\n",
    "        \"use strict\";\n",
    "        this.gear = newGear;\n",
    "    }\n",
    "}\n",
    "bicycle.setGear(3)"
   ]
  },
  {
   "cell_type": "markdown",
   "metadata": {},
   "source": [
    "## 23 - Using class Syntax to Define a Constructor Function"
   ]
  },
  {
   "cell_type": "code",
   "execution_count": 7,
   "metadata": {},
   "outputs": [],
   "source": [
    "%%node\n",
    "function makeClass() {\n",
    "    class Vegetable {\n",
    "        constructor(name){\n",
    "            this.name = name\n",
    "        }\n",
    "    }\n",
    "    return Vegetable\n",
    "}\n",
    "\n",
    "const Vegetable = makeClass()\n",
    "const carrot = new Vegetable('carrot')\n",
    "console.log(carrot.name)"
   ]
  },
  {
   "cell_type": "markdown",
   "metadata": {},
   "source": [
    "## 24 - Use getters and setters to Control Access to an Object"
   ]
  },
  {
   "cell_type": "code",
   "execution_count": 63,
   "metadata": {},
   "outputs": [],
   "source": [
    "%%node\n",
    "class Book {\n",
    "    constructor(author) {\n",
    "        this._author = author; // this means that you are creating a private variable that is accesible within the \n",
    "        // scope of this code. by convention this variables start with _notation\n",
    "    }\n",
    "    // getter\n",
    "    get writer(){\n",
    "        return this._author;\n",
    "    }\n",
    "    // setter\n",
    "    set writer(UpdatedAuthor){\n",
    "        this._author = updatedAuthor;\n",
    "    }\n",
    "}"
   ]
  },
  {
   "cell_type": "markdown",
   "metadata": {},
   "source": [
    "## 25 - Import and Export vs Require\n",
    "\n",
    "    export const capitalizeString  = (string) => ....// function to be exportable to another file. \n",
    "    import { capitalizeString } from \"./string_function\" the file name\n",
    "    \n",
    "    export a variable : export const foo = \"bar\"\n",
    "    exporting a function another way : export {capitalizeString}\n",
    "    \n",
    "    import everything from a file : import * as capitalizeStrings from \"capitalizeStrings\"\n",
    "    export default function ..... : you gonna only export this from this file\n",
    "    import subtract from \"math_functions\" notice you did not need the curly brackets to import an export default function"
   ]
  },
  {
   "cell_type": "markdown",
   "metadata": {},
   "source": [
    "# Thank You! \n",
    "\n",
    "Please let me know any typos or suggestions regarding the notebook. "
   ]
  }
 ],
 "metadata": {
  "kernelspec": {
   "display_name": "Python 3",
   "language": "python",
   "name": "python3"
  },
  "language_info": {
   "codemirror_mode": {
    "name": "ipython",
    "version": 3
   },
   "file_extension": ".py",
   "mimetype": "text/x-python",
   "name": "python",
   "nbconvert_exporter": "python",
   "pygments_lexer": "ipython3",
   "version": "3.7.1"
  }
 },
 "nbformat": 4,
 "nbformat_minor": 2
}
