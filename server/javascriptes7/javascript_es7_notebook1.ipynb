{
 "cells": [
  {
   "cell_type": "raw",
   "metadata": {},
   "source": [
    "---\n",
    "title: \"Javascript ES7 Learning Notebooks - 1\"\n",
    "author: \"Osman Cakir\"\n",
    "date: 2019-07-04\n",
    "description: \"Javascript ES7 Functionalities\"\n",
    "type: technical_note\n",
    "draft: false\n",
    "---"
   ]
  },
  {
   "cell_type": "markdown",
   "metadata": {},
   "source": [
    "I started learned programming with Python and Jupyter Notebooks. The ease to share a notebook and watching cell by cell what the code does was key to me to demistify software development. I am now addicted to this approach. \n",
    "\n",
    "Currently I am working on a research data management tool which is written in pure JS and so I want to get better at JS7 functionalities.  I also wanted to have a reference sheet for myself. I learned I can run JS code inside the jupyter notebook cells with just 2 additional packages. Thus, this is why and how this notebook came to existence. \n",
    "\n",
    "I hope it will be useful to you as much as it is useful to me. I know it is not always self explanotory for someone who is not familiar to coding right now. I am always open to suggestions and corrections. \n",
    "\n",
    "Let's get to it!"
   ]
  },
  {
   "cell_type": "markdown",
   "metadata": {},
   "source": [
    "\n",
    "To be able to write js code inside the jupyter notebook let's first install these two packages. \n",
    "    * pixiedust\n",
    "    * pixiedust_node. \n",
    "Now we can run JS code inside the notebook cells that started with\n",
    "    * %%node \n",
    "more info at : https://medium.com/codait/nodebooks-node-js-data-science-notebooks-aa140bea21ba\n",
    "_____"
   ]
  },
  {
   "cell_type": "markdown",
   "metadata": {},
   "source": [
    "You can directly install pixiedust and pixiedust_node inside the notebook as well. "
   ]
  },
  {
   "cell_type": "code",
   "execution_count": 2,
   "metadata": {},
   "outputs": [],
   "source": [
    "#!pip install pixiedust\n",
    "#!pip install pixiedust_node"
   ]
  },
  {
   "cell_type": "code",
   "execution_count": 1,
   "metadata": {},
   "outputs": [
    {
     "name": "stdout",
     "output_type": "stream",
     "text": [
      "Pixiedust database opened successfully\n"
     ]
    },
    {
     "data": {
      "text/html": [
       "\n",
       "        <div style=\"margin:10px\">\n",
       "            <a href=\"https://github.com/ibm-watson-data-lab/pixiedust\" target=\"_new\">\n",
       "                <img src=\"https://github.com/ibm-watson-data-lab/pixiedust/raw/master/docs/_static/pd_icon32.png\" style=\"float:left;margin-right:10px\"/>\n",
       "            </a>\n",
       "            <span>Pixiedust version 1.1.17</span>\n",
       "        </div>\n",
       "        "
      ],
      "text/plain": [
       "<IPython.core.display.HTML object>"
      ]
     },
     "metadata": {},
     "output_type": "display_data"
    },
    {
     "data": {
      "text/html": [
       "\n",
       "            <div style=\"margin:10px\"> \n",
       "            <a href=\"https://github.com/ibm-cds-labs/pixiedust_node\" target=\"_new\"> \n",
       "            <img src=\"https://github.com/ibm-cds-labs/pixiedust_node/raw/master/docs/_images/pdn_icon32.png\" style=\"float:left;margin-right:10px\"/> \n",
       "            </a> \n",
       "            <span>Pixiedust Node.js</span> \n",
       "            </div> \n"
      ],
      "text/plain": [
       "<IPython.core.display.HTML object>"
      ]
     },
     "metadata": {},
     "output_type": "display_data"
    },
    {
     "name": "stdout",
     "output_type": "stream",
     "text": [
      "pixiedust_node 0.2.5 started. Cells starting '%%node' may contain Node.js code.\n"
     ]
    }
   ],
   "source": [
    "import pixiedust\n",
    "import pixiedust_node"
   ]
  },
  {
   "cell_type": "markdown",
   "metadata": {},
   "source": [
    "# Contents\n",
    "\n",
    "     1 - Hello World\n",
    "     2 - Declaring Variables / Initializing Variables\n",
    "     3 - Data Types in Js\n",
    "     4 - Incrementing Decrementing Variables\n",
    "     5 - Basic Mathematical Operations\n",
    "     6 - Compound Assignment with Augmented Addition\n",
    "     7 - String Variables\n",
    "             * Declare String Variables\n",
    "             * Escape Character in JS\n",
    "             * Concatenate Strings\n",
    "             * Bracket notation to find the first character (0 based indexing)\n",
    "             * Finding any character\n",
    "             * String immutability\n",
    "             * Function w/strings\n",
    "     8 - Arrays [2nd Notebook]\n",
    "             * Store Data in Arrays\n",
    "             * Nested Arrays : Multidimensional Arrays\n",
    "             * Access Data in Arrays with Indexes\n",
    "             * Arrays are Mutable\n",
    "             * Manipulating Arrays\n",
    "                 push()\n",
    "                 pop()\n",
    "                 shift()\n",
    "                 unshift()\n",
    "     9 - Functions\n",
    "             * A Simple Function\n",
    "             * Global Scopes and Functions\n",
    "             * Local Scopes and Functions\n",
    "             * Understanding Undefined Value Returned From A Function\n",
    "             * Assignment with A Returned Value\n",
    "             * Stand in Line.\n",
    "     10 - Logical Operators and If Statements\n",
    "             * Strict Equals\n",
    "             * Other Operators\n",
    "             * Switch Statements\n",
    "             * Returning Early Pattern From Functions\n",
    "     11 - Build Javascript Objects [3rd Notebook]\n",
    "             * Manipulate Complex Objects in JS\n",
    "     12 - Loops\n",
    "             * while Loop\n",
    "             * for Loop\n",
    "             * Nested for Loop\n",
    "             * Do While Loops\n",
    "     13 - Generate Random Numbers \n",
    "             * parseInt()\n",
    "     14 - The Conditional (Ternary) Operator\n",
    "     15 - Let and Const Variable Declaration in Detail\n",
    "     16 - Specify a Default Value For a Function\n",
    "     17 - Rest Operator\n",
    "     18 - Spread Operator\n",
    "     19 - Destructuring Assignment to Assign Variables from Objects\n",
    "             * Change the order of elements in arrays with destructuring\n",
    "             * Another use of Destructuring\n",
    "             * Destructuring Assignment to Pass an Object as a Function's Parameters\n",
    "     20 - Create Literals Using Template Literals \n",
    "     21 - Write Concise Object Literal Declerations Using Simple Fields\n",
    "     22 - Write Concise Declarative Functions\n",
    "     23 - Using class Syntax to Define a Constructor Function\n",
    "     24 - Use getters and setters to Control Access to an Object\n",
    "     25 - Import and Export vs Require"
   ]
  },
  {
   "cell_type": "markdown",
   "metadata": {},
   "source": [
    "## 1 - Hello World\n",
    "________"
   ]
  },
  {
   "cell_type": "code",
   "execution_count": 4,
   "metadata": {},
   "outputs": [
    {
     "name": "stdout",
     "output_type": "stream",
     "text": [
      "hello world\n"
     ]
    }
   ],
   "source": [
    "%%node\n",
    "// to print something\n",
    "console.log('hello world');"
   ]
  },
  {
   "cell_type": "markdown",
   "metadata": {},
   "source": [
    "## 2 - Declaring A Variable\n",
    "____"
   ]
  },
  {
   "cell_type": "code",
   "execution_count": 5,
   "metadata": {},
   "outputs": [
    {
     "name": "stdout",
     "output_type": "stream",
     "text": [
      "3\n",
      "\n"
     ]
    }
   ],
   "source": [
    "%%node\n",
    "var a // declares a variable\n",
    "var a = 2; // declares and assign the variable\n",
    "a =3 // just assigns\n",
    "console.log(a) // let's see a at the console"
   ]
  },
  {
   "cell_type": "markdown",
   "metadata": {},
   "source": [
    "Other ways of declaring a variable are 'let' and 'const'. It is recommended to use let and const to declare variables wherever possible opposed to 'var' method. It will prevent many bugs!"
   ]
  },
  {
   "cell_type": "code",
   "execution_count": 6,
   "metadata": {},
   "outputs": [
    {
     "name": "stdout",
     "output_type": "stream",
     "text": [
      "3.14\n",
      "\n"
     ]
    }
   ],
   "source": [
    "%%node \n",
    "var number = 5; // declaring a variable with var makes it usable in the whole programme (global)\n",
    "var myname = 'osman'\n",
    "let ourName = 'freefall' // only to be used within the scope\n",
    "const pi = 3.14 // a variable that is not changeable\n",
    "console.log(pi)"
   ]
  },
  {
   "cell_type": "markdown",
   "metadata": {},
   "source": [
    "Scope of variables are actually a little bit more complex topic than explained above. We will go into details about them later. Just go along with the general wisdom that declaring a variable using var is not the best practice any more. Use let or const whenever possible.\n",
    "____"
   ]
  },
  {
   "cell_type": "markdown",
   "metadata": {},
   "source": [
    "## 3 - Data types in  JS\n",
    "____\n",
    " * undefined: you may have a variable that you haven't set to be anything yet. \n",
    " * null: is nothing, \n",
    " * boolean: true or false variables\n",
    " * string: strings as usual  \n",
    " * symbol: an immutable primitive value that is unique \n",
    " * number: numbers, floats \n",
    " * object: stores key value pairs of different types\n",
    "\n",
    "**Data is anything meaningful to a computer in computer science**"
   ]
  },
  {
   "cell_type": "markdown",
   "metadata": {},
   "source": [
    "_______\n",
    "## 4 - Basic Mathematical Operations \n",
    "___"
   ]
  },
  {
   "cell_type": "code",
   "execution_count": 12,
   "metadata": {},
   "outputs": [
    {
     "name": "stdout",
     "output_type": "stream",
     "text": [
      "20\n",
      "\n",
      "5\n",
      "\n",
      "80\n",
      "\n",
      "5\n",
      "\n",
      "1000\n",
      "\n",
      "1\n",
      "\n"
     ]
    }
   ],
   "source": [
    "%%node\n",
    "console.log(10+10) // sum\n",
    "console.log(10-5) // difference\n",
    "console.log(8*10) // multiplication\n",
    "console.log(10/2) // division\n",
    "console.log(10**3) // exponentiation\n",
    "console.log(10%3) // remainder\n"
   ]
  },
  {
   "cell_type": "markdown",
   "metadata": {},
   "source": [
    "**Strings can be added too**"
   ]
  },
  {
   "cell_type": "code",
   "execution_count": 11,
   "metadata": {},
   "outputs": [
    {
     "name": "stdout",
     "output_type": "stream",
     "text": [
      "I am a string\n"
     ]
    }
   ],
   "source": [
    "%%node\n",
    "var mystring = 'I am a'\n",
    "var yourstring = ' string' \n",
    "console.log(mystring + yourstring)"
   ]
  },
  {
   "cell_type": "markdown",
   "metadata": {},
   "source": [
    "## 5 - Incrementing / Decrementing Variables "
   ]
  },
  {
   "cell_type": "code",
   "execution_count": 64,
   "metadata": {},
   "outputs": [],
   "source": [
    "%%node\n",
    "// incrementing a variable \n",
    "var myVar = 87; \n",
    "myVar = 87 +1; // is equal to below statement\n",
    "myVar++;\n",
    "// decrementing a varible \n",
    "var myVart = 11\n",
    "myVart = myVart -1  // is equal to below statement\n",
    "myVart--"
   ]
  },
  {
   "cell_type": "markdown",
   "metadata": {},
   "source": [
    "## 6 - Compound Assignment with Augmented Addition"
   ]
  },
  {
   "cell_type": "markdown",
   "metadata": {},
   "source": [
    "Let's say we declared a variable called a and assigned its' value as 3. \n",
    "`var a = 3;`\n",
    "These two statements are equivalent in JS. with compound assignment with augmented addition; `a = a + 12` and `a+=12`. And analogously other mathematical operations too.    \n",
    "* `a = a + 12` and `a+=12`   \n",
    "* `a = a - 2` and `a -= 2`\n",
    "* `a = a*5` and `a*=5`\n",
    "* `a = a /12` and `a /=12`"
   ]
  },
  {
   "cell_type": "code",
   "execution_count": 7,
   "metadata": {},
   "outputs": [
    {
     "name": "stdout",
     "output_type": "stream",
     "text": [
      "12\n",
      "\n",
      "12\n",
      "\n"
     ]
    }
   ],
   "source": [
    "%%node\n",
    "var a = 0\n",
    "var b = 0\n",
    "console.log(a=a+12)\n",
    "console.log(b+=12)"
   ]
  },
  {
   "cell_type": "markdown",
   "metadata": {},
   "source": [
    "## 7 - Declare String Variables"
   ]
  },
  {
   "cell_type": "code",
   "execution_count": 5,
   "metadata": {},
   "outputs": [],
   "source": [
    "%%node\n",
    "var firstName = 'Alan'\n",
    "var myFirstName = 'Carnes'"
   ]
  },
  {
   "cell_type": "markdown",
   "metadata": {},
   "source": [
    "* **Escaping in JS**"
   ]
  },
  {
   "cell_type": "code",
   "execution_count": 11,
   "metadata": {},
   "outputs": [
    {
     "name": "stdout",
     "output_type": "stream",
     "text": [
      "... ... ... ... ... ... ... ... ...\n",
      "I am a \"double quoted\" string inside\n",
      "<a href=http://example.com\" target=\"blank\">Link</a>\n",
      "<a href=\"http://example.com\" target=\"_blank\">Link</a>\n",
      "firstline\n",
      "SecondLine\n",
      "Thirdline\n"
     ]
    }
   ],
   "source": [
    "%%node\n",
    "var myStr1 = \"I am a \\\"double quoted\\\" string inside\"\n",
    "var myStr2 = \"<a href=\\http://example.com\\\" target=\\\"blank\\\">Link</a>\";\n",
    "var myStr3 = '<a href=\"http://example.com\" target=\"_blank\">Link</a>';\n",
    "/* Code output\n",
    "\\' single quote\n",
    "\\\" double quote\n",
    "\\\\ backslash \n",
    "\\n newline\n",
    "\\r carriage turn\n",
    "\\t tab\n",
    "\\ backspace\n",
    "\\f form feed\n",
    "*/\n",
    "var myStr4 = \"firstline\\n \\t SecondLine\\nThirdline\"\n",
    "console.log(myStr1)\n",
    "console.log(myStr2)\n",
    "console.log(myStr3)\n",
    "console.log(myStr4)"
   ]
  },
  {
   "cell_type": "markdown",
   "metadata": {},
   "source": [
    "* **Concatenate Strings**"
   ]
  },
  {
   "cell_type": "code",
   "execution_count": 12,
   "metadata": {},
   "outputs": [
    {
     "name": "stdout",
     "output_type": "stream",
     "text": [
      "I come first. I come second\n",
      "my name is osman\n",
      "This is the first sentence. This is the second sentence\n",
      "my name is osman This is the first sentence. This is the second sentence\n"
     ]
    }
   ],
   "source": [
    "%%node\n",
    "var ourStr = \"I come first. \" + \"I come second\"\n",
    "console.log(ourStr);\n",
    "var myName = \"osman \"\n",
    "var myStr1 = \"my name is \" + myName\n",
    "console.log(myStr1);\n",
    "var myStr2 = 'This is the first sentence. '\n",
    "myStr2 += 'This is the second sentence'\n",
    "console.log(myStr2)\n",
    "myStr1 += myStr2\n",
    "console.log(myStr1)"
   ]
  },
  {
   "cell_type": "markdown",
   "metadata": {},
   "source": [
    "* **Find the length of a string**"
   ]
  },
  {
   "cell_type": "code",
   "execution_count": 8,
   "metadata": {},
   "outputs": [
    {
     "name": "stdout",
     "output_type": "stream",
     "text": [
      "71\n",
      "\n"
     ]
    }
   ],
   "source": [
    "%%node\n",
    "var myStrLength = 0\n",
    "myStrLength = myStr1.length\n",
    "console.log(myStrLength)"
   ]
  },
  {
   "cell_type": "markdown",
   "metadata": {},
   "source": [
    "* **Bracket notation to find the first character (0 based indexing)**"
   ]
  },
  {
   "cell_type": "code",
   "execution_count": 19,
   "metadata": {},
   "outputs": [
    {
     "name": "stdout",
     "output_type": "stream",
     "text": [
      "m\n"
     ]
    }
   ],
   "source": [
    "%%node\n",
    "var firstLetterOfStr = \"\"\n",
    "console.log(firstLetterOfStr)\n",
    "firstLetterOfStr = myStr1[0]\n",
    "console.log(firstLetterOfStr)"
   ]
  },
  {
   "cell_type": "markdown",
   "metadata": {},
   "source": [
    " * **You can find the any characters position using the brackets**"
   ]
  },
  {
   "cell_type": "code",
   "execution_count": 10,
   "metadata": {},
   "outputs": [
    {
     "name": "stdout",
     "output_type": "stream",
     "text": [
      "a\n"
     ]
    }
   ],
   "source": [
    "%%node\n",
    "var firstName = 'Ada'\n",
    "var lastletter = firstName[firstName.length-1]\n",
    "console.log(lastletter)"
   ]
  },
  {
   "cell_type": "markdown",
   "metadata": {},
   "source": [
    "* **String Immutability**"
   ]
  },
  {
   "cell_type": "code",
   "execution_count": 11,
   "metadata": {},
   "outputs": [
    {
     "name": "stdout",
     "output_type": "stream",
     "text": [
      "hello world would work\n"
     ]
    }
   ],
   "source": [
    "%%node\n",
    "var myStr0 = 'jello world'\n",
    "// this won't work!: myStr0[0] = 'H'\n",
    "myStr0 = 'hello world would work'\n",
    "console.log(myStr0)"
   ]
  },
  {
   "cell_type": "markdown",
   "metadata": {},
   "source": [
    "* **Function example with Strings**\n",
    "\n",
    "Just to let you know the fun has not even started yet. We will take a closer look at functions of course."
   ]
  },
  {
   "cell_type": "code",
   "execution_count": 7,
   "metadata": {},
   "outputs": [
    {
     "name": "stdout",
     "output_type": "stream",
     "text": [
      "... ... ... ...\n",
      "The big snake ate its' tail.\n"
     ]
    }
   ],
   "source": [
    "%%node\n",
    "function wordBlanks(myNoun, myAdjective, myVerb, myAdverb) {\n",
    "    var result = \"\"\n",
    "    result += \"The \" + myAdjective + \" \" + myNoun + \" \" + myVerb + \" its' tail.\"\n",
    "    return result;\n",
    "}\n",
    "\n",
    "console.log(wordBlanks(\"snake\", \"big\", \"ate\", \"quickly\"))"
   ]
  },
  {
   "cell_type": "markdown",
   "metadata": {},
   "source": [
    "## 8 -  Arrays "
   ]
  },
  {
   "cell_type": "markdown",
   "metadata": {},
   "source": [
    "* **Store Data in Arrays**"
   ]
  },
  {
   "cell_type": "code",
   "execution_count": 2,
   "metadata": {},
   "outputs": [],
   "source": [
    "%%node\n",
    "var ourArray = [\"john\", 23];"
   ]
  },
  {
   "cell_type": "markdown",
   "metadata": {},
   "source": [
    "* **Nested Arrays : multidimensional array** "
   ]
  },
  {
   "cell_type": "code",
   "execution_count": 14,
   "metadata": {},
   "outputs": [],
   "source": [
    "%%node\n",
    "var ourArray2 = [[\"the universe\", 42], [\"everything\", 101010]];"
   ]
  },
  {
   "cell_type": "markdown",
   "metadata": {},
   "source": [
    "* **Access Data in Arrays Data with Indexes**"
   ]
  },
  {
   "cell_type": "code",
   "execution_count": 15,
   "metadata": {},
   "outputs": [],
   "source": [
    "%%node\n",
    "var ourArray3 = [50, 60, 70];\n",
    "var ourData = ourArray2[0];"
   ]
  },
  {
   "cell_type": "markdown",
   "metadata": {},
   "source": [
    "* **Access elements in nested arrays** "
   ]
  },
  {
   "cell_type": "code",
   "execution_count": 16,
   "metadata": {},
   "outputs": [],
   "source": [
    "%%node\n",
    "var ourData2 = ourArray2[0][0];"
   ]
  },
  {
   "cell_type": "markdown",
   "metadata": {},
   "source": [
    "* **Strings were immutable but arrays are mutable.** "
   ]
  },
  {
   "cell_type": "code",
   "execution_count": 17,
   "metadata": {},
   "outputs": [],
   "source": [
    "%%node\n",
    "ourArray3[1] = 45;"
   ]
  },
  {
   "cell_type": "markdown",
   "metadata": {},
   "source": [
    "* **Manipulate Arrays with push()**"
   ]
  },
  {
   "cell_type": "code",
   "execution_count": 3,
   "metadata": {
    "scrolled": true
   },
   "outputs": [
    {
     "name": "stdout",
     "output_type": "stream",
     "text": [
      "[ 'john', 23, 'happy' ]\n",
      "[ 'john', 23, 'happy', [ 'cheerful', 40 ] ]\n"
     ]
    }
   ],
   "source": [
    "%%node\n",
    "ourArray.push(\"happy\")\n",
    "console.log(ourArray)\n",
    "ourArray.push([\"cheerful\", 40])\n",
    "console.log(ourArray)"
   ]
  },
  {
   "cell_type": "markdown",
   "metadata": {},
   "source": [
    "* **Anologously;**\n",
    "    * Manipulate Arrays with pop() : last element goes\n",
    "    * Manipulate Arrays with shift() : first element goes.\n",
    "    * Manipulate Arrays with unshift() : adds element as the first element."
   ]
  },
  {
   "cell_type": "code",
   "execution_count": 4,
   "metadata": {},
   "outputs": [
    {
     "name": "stdout",
     "output_type": "stream",
     "text": [
      "[ 'cheerful', 40 ]\n",
      "[ 'john', 23, 'happy' ]\n",
      "john\n",
      "[ 'alexa', 23, 'happy' ]\n"
     ]
    }
   ],
   "source": [
    "%%node\n",
    "var removedFromArray = ourArray.pop()\n",
    "console.log(removedFromArray)\n",
    "console.log(ourArray)\n",
    "console.log(ourArray.shift())\n",
    "ourArray.unshift((\"alexa\"))\n",
    "console.log(ourArray)"
   ]
  },
  {
   "cell_type": "markdown",
   "metadata": {},
   "source": [
    "## 9 - Functions"
   ]
  },
  {
   "cell_type": "markdown",
   "metadata": {},
   "source": [
    "* **A Simple Function With Arguments**\n",
    "\n",
    "Below function will take the difference of its 2 arguments.\n"
   ]
  },
  {
   "cell_type": "code",
   "execution_count": 20,
   "metadata": {},
   "outputs": [
    {
     "name": "stdout",
     "output_type": "stream",
     "text": [
      "... ...\n",
      "5\n",
      "\n"
     ]
    }
   ],
   "source": [
    "%%node\n",
    "function ourFunctionWithArguments(a,b) {\n",
    "    console.log(a-b);\n",
    "}\n",
    "ourFunctionWithArguments(10,5) "
   ]
  },
  {
   "cell_type": "markdown",
   "metadata": {},
   "source": [
    "### Global scope and functions: \n",
    "    - variables that are defined outside a function block have global scope\n",
    "    - variables that are defined inside a function with var keyword has limited scope. \n",
    "    - if you define a variable inside a function but without using the var keyword, that variable\n",
    "      becomes automatically global scope."
   ]
  },
  {
   "cell_type": "markdown",
   "metadata": {},
   "source": [
    "###  Local Scopes and Functions\n",
    "\n",
    "    function myLocalScope() {\n",
    "        var myVar = 5;\n",
    "        console.log(myVar);\n",
    "    }\n",
    "    myLocalScope(); // will output 5 \n",
    "    console.log(myVar); // will give me an error. Becuase myVar has a local scope. it is not callable\n",
    "\n",
    "You can have a global and local scope variables with the same name!"
   ]
  },
  {
   "cell_type": "code",
   "execution_count": 21,
   "metadata": {},
   "outputs": [
    {
     "name": "stdout",
     "output_type": "stream",
     "text": [
      "... ... ...\n",
      "5\n",
      "\n",
      "ReferenceError: myVar is not defined\n"
     ]
    }
   ],
   "source": [
    "%%node\n",
    "    function myLocalScope() {\n",
    "        var myVar = 5;\n",
    "        console.log(myVar);\n",
    "    }\n",
    "    myLocalScope(); // will output 5 \n",
    "    console.log(myVar); // will give me an error. Becuase myVar has a local scope. it is not callable"
   ]
  },
  {
   "cell_type": "markdown",
   "metadata": {},
   "source": [
    "### Understanding Undefined Value Returned from a Function.\n",
    "\n",
    "   * funtions can have return statements but they don't have to\n",
    "                var sum = 0;\n",
    "                function addThree() {\n",
    "                    sum = sum + 3;\n",
    "                }\n",
    "   * if you don't specify return value it is going to be undefined. \n",
    "   \n",
    "                function addFive() {\n",
    "                    sum = sum += 5;\n",
    "                }\n",
    "   * so if we log this out it would be undefined! \n",
    "    "
   ]
  },
  {
   "cell_type": "markdown",
   "metadata": {},
   "source": [
    "### Assignment with a Returned Value\n",
    "        var processed = 0; \n",
    "        function processedArg(num) {\n",
    "            return (num+3)/2;\n",
    "        }\n",
    "        processed = processedArg(7);\n",
    "* processed is changed to 5!"
   ]
  },
  {
   "cell_type": "code",
   "execution_count": 9,
   "metadata": {},
   "outputs": [
    {
     "name": "stdout",
     "output_type": "stream",
     "text": [
      "... ...\n",
      "5\n",
      "\n"
     ]
    }
   ],
   "source": [
    "%%node\n",
    "var processed = 0; \n",
    "function processedArg(num) {\n",
    "    return (num+3)/2;\n",
    "}\n",
    "processed = processedArg(7);\n",
    "console.log(processed)"
   ]
  },
  {
   "cell_type": "markdown",
   "metadata": {},
   "source": [
    "### Stand in Line \n",
    "    \n",
    "In computer science a cue is an abstract data structure where items are kept in order. New items can be added to the back of the cue and old items can be removed from the front. "
   ]
  },
  {
   "cell_type": "code",
   "execution_count": 13,
   "metadata": {},
   "outputs": [
    {
     "name": "stdout",
     "output_type": "stream",
     "text": [
      "... ... ...\n",
      "Before: [1,2,3,4,5]\n",
      "1\n",
      "\n",
      "After: [2,3,4,5,6]\n"
     ]
    }
   ],
   "source": [
    "%%node\n",
    "function nextInLine(arr,item){\n",
    "    arr.push(item)\n",
    "    return arr.shift()\n",
    "}\n",
    "var testArr = [1,2,3,4,5]\n",
    "console.log(\"Before: \" + JSON.stringify(testArr));\n",
    "console.log(nextInLine(testArr,6));\n",
    "console.log(\"After: \"+ JSON.stringify(testArr)); "
   ]
  },
  {
   "cell_type": "markdown",
   "metadata": {},
   "source": [
    "## 10 - Logical Operators and if Statements"
   ]
  },
  {
   "cell_type": "code",
   "execution_count": 23,
   "metadata": {},
   "outputs": [
    {
     "name": "stdout",
     "output_type": "stream",
     "text": [
      "... ..... ..... ... ...\n",
      "Not Equal\n"
     ]
    }
   ],
   "source": [
    "%%node\n",
    "function testEqual(val) {\n",
    "    if (val == 12) {\n",
    "        return \"Equal\"\n",
    "    }\n",
    "    return \"Not Equal\";\n",
    "}\n",
    "console.log(testEqual(10))"
   ]
  },
  {
   "cell_type": "markdown",
   "metadata": {},
   "source": [
    "### Strict Equals \n",
    "* '==' operator can check 3 == '3' and can tell true. Because it can convert the string to a number. \n",
    "* '===' Strictly Equal Operator doesn't convert any value."
   ]
  },
  {
   "cell_type": "code",
   "execution_count": 24,
   "metadata": {},
   "outputs": [
    {
     "name": "stdout",
     "output_type": "stream",
     "text": [
      "... ..... ..... ... ...\n",
      "Not Equal\n"
     ]
    }
   ],
   "source": [
    "%%node\n",
    "function testStrict(val) {\n",
    "    if (val === 12) {\n",
    "        return \"Equal\"\n",
    "    }\n",
    "    return \"Not Equal\";\n",
    "}\n",
    "console.log(testStrict('12'))"
   ]
  },
  {
   "cell_type": "markdown",
   "metadata": {},
   "source": [
    "### Other Operators \n",
    "\n",
    "    * inequality operator: !=  (it also does type converting) strict inequality operator : !==\n",
    "    * greater than > and < and >= <=\n",
    "    * logical operators and : &&  or : || \n",
    "    * else statement: else {}\n",
    "    * else if statement: else if {}"
   ]
  },
  {
   "cell_type": "code",
   "execution_count": 25,
   "metadata": {},
   "outputs": [
    {
     "name": "stdout",
     "output_type": "stream",
     "text": [
      "... ..... ..... ..... ..... ... ..... ..... ...\n",
      "between 5 and 10\n"
     ]
    }
   ],
   "source": [
    "%%node\n",
    "function testElseIf(val) {\n",
    "    if (val > 10) {\n",
    "        return 'greater than 10';\n",
    "    }   else if (val < 5) {\n",
    "        return 'smaller than 5';\n",
    "    }\n",
    "        else {\n",
    "        return 'between 5 and 10'\n",
    "    }\n",
    "}\n",
    "console.log(testElseIf(7))\n",
    "// order in logical statements: be careful above! "
   ]
  },
  {
   "cell_type": "markdown",
   "metadata": {},
   "source": [
    "### Switch statements: instead of a chained elseif statements we can use a switch statement."
   ]
  },
  {
   "cell_type": "code",
   "execution_count": 26,
   "metadata": {},
   "outputs": [
    {
     "name": "stdout",
     "output_type": "stream",
     "text": [
      "... ... ..... ..... ..... ..... ..... ..... ..... ..... ..... ..... ... ...\n",
      "alpha\n"
     ]
    }
   ],
   "source": [
    "%%node\n",
    "function caseInSwitch(val) {\n",
    "    var answer = \"\";\n",
    "    switch(val) {\n",
    "        case 1: // works as strictly equal!\n",
    "        answer = \"alpha\"\n",
    "        break; // breaks are important otherwise will continue to assign below.\n",
    "        case 2:\n",
    "        answer = \"beta\"\n",
    "        break;\n",
    "        default: //adds a default option for cases outside switch \n",
    "        answer = \"stuff\"\n",
    "        break;\n",
    "    }\n",
    "    return answer;\n",
    "}\n",
    "\n",
    "console.log(caseInSwitch(1))\n",
    "// when you want to give the same output for different cases just take out the break between those cases."
   ]
  },
  {
   "cell_type": "markdown",
   "metadata": {},
   "source": [
    "### Returning Early Pattern From Functions."
   ]
  },
  {
   "cell_type": "code",
   "execution_count": 27,
   "metadata": {},
   "outputs": [
    {
     "name": "stdout",
     "output_type": "stream",
     "text": [
      "... ..... ..... ..... ... ...\n",
      "5\n",
      "\n"
     ]
    }
   ],
   "source": [
    "%%node\n",
    "function abTest(a,b) {\n",
    "    if (a < 0 || b < 0) {\n",
    "        return undefined;\n",
    "        \n",
    "    }\n",
    "    return 5\n",
    "}\n",
    "console.log(abTest(2,3))"
   ]
  },
  {
   "cell_type": "markdown",
   "metadata": {},
   "source": [
    "## 11 - Build Javascript Objects \n",
    "    - very similar to dictionaries in Python!. \n",
    "    - Keys are called properties. \n",
    "    - Values are called values.\n",
    "    - you can access its properties with dot. notation\n",
    "    - you can also access with bracket notatiton.\n",
    "    - Accessing Object Properties with variables: \n",
    "        - With bracket notation you can also access an object's property with a variable\n",
    "    - Updating the properties in a javascript object: \n",
    "        - you can do that with dot. notation\n",
    "    - Adding new propoerties to an js object: \n",
    "        - you can do that with dot notation or bracket notation\n",
    "    - Deleting the propoerties to a js object: \n",
    "        delete keyword with dot notation\n",
    "    - You can use objects to lookup instead of writing gigantic switch cases. \n",
    "    -Testing objects for Properties\n",
    "        - hasOwnProperty() method.\n"
   ]
  },
  {
   "cell_type": "code",
   "execution_count": 16,
   "metadata": {},
   "outputs": [
    {
     "name": "stdout",
     "output_type": "stream",
     "text": [
      "... ... ... ... ... ... ...\n"
     ]
    }
   ],
   "source": [
    "%%node\n",
    "var ourDog = {\n",
    "    \"name\": \"Leo\", \n",
    "    \"legs\": 4,\n",
    "    \"tails\":1,\n",
    "    \"friends\": [\"everything\"],\n",
    "    \"the drink\": \"water\",\n",
    "    12 : \"number\"\n",
    "};"
   ]
  },
  {
   "cell_type": "code",
   "execution_count": 17,
   "metadata": {},
   "outputs": [
    {
     "name": "stdout",
     "output_type": "stream",
     "text": [
      "{ '12': 'number',\n",
      "name: 'Happy Leo',\n",
      "legs: 4,\n",
      "tails: 1,\n",
      "friends: [ 'everything' ],\n",
      "'the drink': 'water',\n",
      "bark: 'woof',\n",
      "level: 45 }\n"
     ]
    }
   ],
   "source": [
    "%%node\n",
    "var legs = ourDog.legs // access with dot\n",
    "var drinks = ourDog[\"the drink\"]; // access with brackets\n",
    "var playerNumber = 12; // access with a variable equal to one of the keys\n",
    "var player = ourDog[playerNumber];\n",
    "ourDog.name = \"Happy Leo\" // updating\n",
    "ourDog.bark = \"woof\" // adding\n",
    "ourDog['level'] =  45 // adding\n",
    "// delete ourDog.level;\n",
    "console.log(ourDog)"
   ]
  },
  {
   "cell_type": "code",
   "execution_count": 30,
   "metadata": {},
   "outputs": [
    {
     "name": "stdout",
     "output_type": "stream",
     "text": [
      "... ... ..... ..... ..... ... ... ...\n",
      "adam\n"
     ]
    }
   ],
   "source": [
    "%%node\n",
    "function phoneticLookUp(val) { //lookup example\n",
    "    var result = \"\"\n",
    "    var lookup = {\n",
    "        \"alpha\": \"adam\",\n",
    "        \"bravo\": \"boston\"\n",
    "    }\n",
    "    result = lookup[val];\n",
    "    return result;\n",
    "}\n",
    "console.log(phoneticLookUp(\"alpha\"))\n"
   ]
  },
  {
   "cell_type": "code",
   "execution_count": 31,
   "metadata": {},
   "outputs": [
    {
     "name": "stdout",
     "output_type": "stream",
     "text": [
      "... ..... ..... ... ..... ..... ...\n",
      "1\n",
      "\n"
     ]
    }
   ],
   "source": [
    "%%node\n",
    "function checkObj(checkProp) { // checking propoerties\n",
    "    if (ourDog.hasOwnProperty(checkProp)) {\n",
    "        return ourDog[checkProp]         \n",
    "        }\n",
    "         else {\n",
    "            return \"not found\"\n",
    "        }\n",
    "}\n",
    "console.log(checkObj(\"tails\"))"
   ]
  },
  {
   "cell_type": "markdown",
   "metadata": {},
   "source": [
    "### Manipulating Complex Objects in js\n",
    "    - flexible complex data storage units\n",
    "    - very similar to JSON files.\n",
    "    - below we see an array with objects in it.  \n",
    "    - Accessing nested objects in objects is possible with dot.dot notation."
   ]
  },
  {
   "cell_type": "code",
   "execution_count": 32,
   "metadata": {},
   "outputs": [
    {
     "name": "stdout",
     "output_type": "stream",
     "text": [
      "... ... ... ... ... ... ... ... ... ... ... ... ... ...\n",
      "2009\n",
      "\n"
     ]
    }
   ],
   "source": [
    "%%node\n",
    "var myMusic = [\n",
    "    {\n",
    "        \"artist\": \"Billy Joel\",\n",
    "        \"title\": \"Piano Man\",\n",
    "        \"release_year\": 1973,\n",
    "        \"formats\": [\"CD\", \"ST\", \"LP\"], \n",
    "        \"gold\": true\n",
    "    },{\n",
    "        \"artist\": \"Bobby\",\n",
    "        \"title\": \"Creal\",\n",
    "        \"release_year\": 2009,\n",
    "        \"formats\": [\"youtube videos\"], \n",
    "        \"gold\": true\n",
    "    }\n",
    "]\n",
    "\n",
    "var secondTree = myMusic[1].release_year // accessing obj. property nested in an array. \n",
    "console.log(secondTree) // combine bracket and dot notation."
   ]
  },
  {
   "cell_type": "markdown",
   "metadata": {},
   "source": [
    "## 12 -  Loops\n",
    "    - while loop\n",
    "    - for loop [3 components: initilization(usually a variable) ; condition ; final expression)]\n",
    "    - nested for loops\n",
    "    - do while loops: runs at least ones the code before checking the condition"
   ]
  },
  {
   "cell_type": "code",
   "execution_count": 33,
   "metadata": {},
   "outputs": [
    {
     "name": "stdout",
     "output_type": "stream",
     "text": [
      "... ... ...\n",
      "[ 0, 1, 2, 3, 4 ]\n",
      "\n"
     ]
    }
   ],
   "source": [
    "%%node\n",
    "var myArray = [];\n",
    "var i = 0\n",
    "while (i<5) {\n",
    "    myArray.push(i);\n",
    "    i++;\n",
    "}\n",
    "\n",
    "console.log(myArray)"
   ]
  },
  {
   "cell_type": "code",
   "execution_count": 34,
   "metadata": {},
   "outputs": [
    {
     "name": "stdout",
     "output_type": "stream",
     "text": [
      "... ...\n",
      "[ 0, 1, 2, 3, 4, 5, 6, 7 ]\n",
      "\n"
     ]
    }
   ],
   "source": [
    "%%node\n",
    "var myArray2 = [];\n",
    "for (var i =0; i < 8; i++) { // for loop example\n",
    "    myArray2.push(i);\n",
    "}\n",
    "console.log(myArray2)"
   ]
  },
  {
   "cell_type": "code",
   "execution_count": 35,
   "metadata": {},
   "outputs": [
    {
     "name": "stdout",
     "output_type": "stream",
     "text": [
      "... ...\n",
      "20\n",
      "\n"
     ]
    }
   ],
   "source": [
    "%%node\n",
    "var myArray3 = [2,3,4,5,6]; // another for loop example with iteration on an array.\n",
    "var total= 0;\n",
    "for (var i = 0 ; i < myArray3.length; i++){\n",
    "    total += myArray3[i]\n",
    "}\n",
    "console.log(total)"
   ]
  },
  {
   "cell_type": "code",
   "execution_count": 36,
   "metadata": {},
   "outputs": [
    {
     "name": "stdout",
     "output_type": "stream",
     "text": [
      "... ... ..... ....... ....... ..... ... ...\n",
      "5040\n",
      "\n"
     ]
    }
   ],
   "source": [
    "%%node\n",
    "function multiplyAll(arr) { // nested for loops\n",
    "    var product = 1 \n",
    "    for (var i = 0; i < arr.length; i++){\n",
    "        for (var j = 0; j< arr[i].length; j++){\n",
    "            product *= arr[i][j]\n",
    "        }\n",
    "    }\n",
    "return product\n",
    "}\n",
    "\n",
    "var product = multiplyAll([[1,2], [3,4], [5,6,7]])\n",
    "console.log(product)"
   ]
  },
  {
   "cell_type": "code",
   "execution_count": 37,
   "metadata": {},
   "outputs": [
    {
     "name": "stdout",
     "output_type": "stream",
     "text": [
      "... ... ... ... ...\n",
      "11 [ 10 ]\n"
     ]
    }
   ],
   "source": [
    "%%node\n",
    "var myArray4 = []\n",
    "var i = 10\n",
    "\n",
    "do { // do while loop example!\n",
    "    myArray4.push(i)\n",
    "    i++;}\n",
    "    while (i<5) {\n",
    "        myArray.push(i)\n",
    "    }\n",
    "console.log(i, myArray4)"
   ]
  },
  {
   "cell_type": "markdown",
   "metadata": {},
   "source": [
    "## 13 - Generate Random Functions "
   ]
  },
  {
   "cell_type": "code",
   "execution_count": 38,
   "metadata": {},
   "outputs": [
    {
     "name": "stdout",
     "output_type": "stream",
     "text": [
      "... ...\n",
      "0.20582776591657392\n",
      "\n"
     ]
    }
   ],
   "source": [
    "%%node\n",
    "function randomFraction() {\n",
    "    return Math.random(); //generates a random number between 0 and 1\n",
    "}\n",
    "console.log(randomFraction());"
   ]
  },
  {
   "cell_type": "code",
   "execution_count": 19,
   "metadata": {},
   "outputs": [
    {
     "name": "stdout",
     "output_type": "stream",
     "text": [
      "... ...\n",
      "0.3352099482101052\n",
      "\n",
      "17\n",
      "\n"
     ]
    }
   ],
   "source": [
    "%%node\n",
    "var randomNumberBetween0and19 = Math.floor(Math.floor(Math.random()*20)) //Math.floor rounds up\n",
    "function randomWholeNum() {\n",
    "    return Math.random();\n",
    "}\n",
    "console.log(randomWholeNum());\n",
    "console.log(randomNumberBetween0and19)"
   ]
  },
  {
   "cell_type": "markdown",
   "metadata": {},
   "source": [
    "### parseInt() Function\n",
    "    - takes a string and returns an integer\n",
    "    - radix argument tells us the base. default base is 10"
   ]
  },
  {
   "cell_type": "code",
   "execution_count": 40,
   "metadata": {},
   "outputs": [
    {
     "name": "stdout",
     "output_type": "stream",
     "text": [
      "... ...\n",
      "19\n",
      "\n"
     ]
    }
   ],
   "source": [
    "%%node\n",
    "function convertToInteger(str) {\n",
    "    return parseInt(str,2) // 2 is the base ; radix argument\n",
    "}\n",
    "console.log(convertToInteger(\"10011\"))"
   ]
  },
  {
   "cell_type": "markdown",
   "metadata": {},
   "source": [
    " ## 14 - The Conditional (Ternary) Operator\n",
    "    - condition ? statement-if-true : statement-if-false;\n",
    "    - multiple conditions are possible"
   ]
  },
  {
   "cell_type": "code",
   "execution_count": 41,
   "metadata": {},
   "outputs": [
    {
     "name": "stdout",
     "output_type": "stream",
     "text": [
      "... ... ...\n",
      "false\n",
      "\n"
     ]
    }
   ],
   "source": [
    "%%node\n",
    "function checkEqual(a,b) {\n",
    "    return a === b ? true : false;\n",
    "    \n",
    "}\n",
    "console.log(checkEqual(1,2))"
   ]
  },
  {
   "cell_type": "code",
   "execution_count": 42,
   "metadata": {},
   "outputs": [
    {
     "name": "stdout",
     "output_type": "stream",
     "text": [
      "... ...\n",
      "zero\n"
     ]
    }
   ],
   "source": [
    "%%node\n",
    "function checkSign(num) {\n",
    "    return num > 0 ? \"positive\" : num < 0 ? \"negative\" : \"zero\" // multiple conditions\n",
    "}\n",
    "console.log(checkSign(0))"
   ]
  },
  {
   "cell_type": "markdown",
   "metadata": {},
   "source": [
    "## 15 - let and const variable declaration in more detail\n",
    "\n",
    "- with ES6 it is possible to declare variables with let and const\n",
    "- let : only allows you declare a variable once. you can not declare it with the same name twice. you can set it twice though. you can reassign it.\n",
    "- let is only limited to block scope so your variable can be accessed only inside a block of a code. {} : is a block scope means\n",
    "- const is a read only variable decleration meaning you can not reassign it. but you can mutate if const is an array using [] notation.\n",
    "- by convention const are ALLCAPITALS\n"
   ]
  },
  {
   "cell_type": "code",
   "execution_count": 44,
   "metadata": {},
   "outputs": [
    {
     "name": "stdout",
     "output_type": "stream",
     "text": [
      "... ... ... ..... ..... ...\n",
      "art is cool\n",
      "art is cool\n"
     ]
    }
   ],
   "source": [
    "%%node\n",
    "function printManyTimes(str) {\n",
    "    \"use strict\"; // catches common coding mistakes. such as if you create a varible but don't declare it.\n",
    "    const SENTENCE = str + \" is cool\";\n",
    "    for(let i = 0; i< str.length; i+=2){\n",
    "        console.log(SENTENCE)\n",
    "    }\n",
    "}\n",
    "printManyTimes(\"art\")"
   ]
  },
  {
   "cell_type": "markdown",
   "metadata": {},
   "source": [
    "#### Prevent Object Mutation\n",
    "- Object.freeze(MATH_CONSTANTS) will prevent any kind of mutation on your variable. put it somewhere in your function."
   ]
  },
  {
   "cell_type": "markdown",
   "metadata": {},
   "source": [
    "## 16 - Arrow functions to write concise Anonymous Functions\n",
    "\n",
    "- below function is an anonymous function. it is assigned to a variable but it doesn't have a name."
   ]
  },
  {
   "cell_type": "code",
   "execution_count": 45,
   "metadata": {},
   "outputs": [
    {
     "name": "stdout",
     "output_type": "stream",
     "text": [
      "... ...\n"
     ]
    }
   ],
   "source": [
    "%%node\n",
    "var magic = function() {\n",
    "    return new Date();\n",
    "}"
   ]
  },
  {
   "cell_type": "markdown",
   "metadata": {},
   "source": [
    "- you can convert an anon function to an arrow function as shown below =>"
   ]
  },
  {
   "cell_type": "code",
   "execution_count": 46,
   "metadata": {},
   "outputs": [
    {
     "name": "stdout",
     "output_type": "stream",
     "text": [
      "... ...\n"
     ]
    }
   ],
   "source": [
    "%%node\n",
    "var magic2 = () => {\n",
    "    return new Date()\n",
    "}"
   ]
  },
  {
   "cell_type": "markdown",
   "metadata": {},
   "source": [
    "- you can even shorten this arrow function as shown below."
   ]
  },
  {
   "cell_type": "code",
   "execution_count": 47,
   "metadata": {},
   "outputs": [],
   "source": [
    "%%node\n",
    "const MAGIC3 = () => new Date();"
   ]
  },
  {
   "cell_type": "code",
   "execution_count": 48,
   "metadata": {},
   "outputs": [
    {
     "name": "stdout",
     "output_type": "stream",
     "text": [
      "... ...\n",
      "[ 1, 2, 3, 4, 5 ]\n",
      "\n"
     ]
    }
   ],
   "source": [
    "%%node\n",
    "var myConcat = (arr1, arr2) => arr1.concat(arr2);\n",
    "var myConcat1 = (arr1, arr2) => { //the same as above\n",
    "    return arr1.concat(arr2);\n",
    "}\n",
    "console.log(myConcat1([1,2], [3,4,5]))"
   ]
  },
  {
   "cell_type": "markdown",
   "metadata": {},
   "source": [
    "### High Order Arrow Functions\n",
    "    - map, filter and reduce are high order functions. \n",
    "    - they take functions as arguments for processing collections of data"
   ]
  },
  {
   "cell_type": "code",
   "execution_count": 49,
   "metadata": {},
   "outputs": [
    {
     "name": "stdout",
     "output_type": "stream",
     "text": [
      "... ... ...\n",
      "[ 16, 1764, 36 ]\n",
      "\n"
     ]
    }
   ],
   "source": [
    "%%node\n",
    "const REALNUMBERARRAY = [4,5.6,-9.8, 3.14,42, 6, 8.34]\n",
    "\n",
    "const SQUARELIST = (arr) => {\n",
    "    const SQUAREDINTEGERS = arr.filter( num => Number.isInteger(num) && num > 0).map(x => x*x)\n",
    "    return SQUAREDINTEGERS\n",
    "}\n",
    "const SQUAREDINTEGERS = SQUARELIST(REALNUMBERARRAY)\n",
    "console.log(SQUAREDINTEGERS)"
   ]
  },
  {
   "cell_type": "markdown",
   "metadata": {},
   "source": [
    "## 16 - Specify a Default Value For a Function\n",
    "    - function fede(number, value = 1) value is set to 1 by default even if it is not passed it \n",
    "    - console.log(fede(5,2)) sets the value = 2 \n",
    "    - console.log(fede(5)) sets the value =1 bcs it is the default value."
   ]
  },
  {
   "cell_type": "markdown",
   "metadata": {},
   "source": [
    "## 17 - Rest Operator\n",
    "    - allows you to create functions that can take variable number of arguments\n",
    "    - ....args is the notation"
   ]
  },
  {
   "cell_type": "markdown",
   "metadata": {},
   "source": [
    "## 18 - Spread Operator\n",
    "    - basically a way to copy arrays. the changes on the copied won't effect the original array. \n",
    "    - arr1 = [...arr2] is the notation."
   ]
  },
  {
   "cell_type": "markdown",
   "metadata": {},
   "source": [
    "## 19 - Destructuring Assignment to Assign Variables from Objects"
   ]
  },
  {
   "cell_type": "code",
   "execution_count": 21,
   "metadata": {},
   "outputs": [],
   "source": [
    "%%node\n",
    "var voxel = {x:3.6, y:7.4, z:6.54}; \n",
    "var x = voxel.x\n",
    "var y = voxel.y\n",
    "var z = voxel.z // old way to assign an js object's properties to variables"
   ]
  },
  {
   "cell_type": "code",
   "execution_count": null,
   "metadata": {},
   "outputs": [],
   "source": [
    "%%node\n",
    "const { x: a, z: b, k:c } = voxel // "
   ]
  },
  {
   "cell_type": "code",
   "execution_count": null,
   "metadata": {},
   "outputs": [],
   "source": [
    "%%node\n",
    "// you can also use destructuring assignment with arrays \n",
    "const [z,x,,y] = [1,2,3,4,5,6]; // will take 1,2 and 4. 3 is skipped with a comma. assignment follows order\n",
    "console.log(z,x,y)"
   ]
  },
  {
   "cell_type": "markdown",
   "metadata": {},
   "source": [
    "### Change the order of elements in arrays with destructuring"
   ]
  },
  {
   "cell_type": "code",
   "execution_count": 2,
   "metadata": {},
   "outputs": [
    {
     "name": "stdout",
     "output_type": "stream",
     "text": [
      "... ... ...\n",
      "8\n",
      "\n",
      "6\n",
      "\n"
     ]
    }
   ],
   "source": [
    "%%node\n",
    "let a1 = 8, b1 = 6;\n",
    "(() => {\n",
    "    \"use strict\"\n",
    "    [a1,b1] = [b1,a1]\n",
    "})()\n",
    "console.log(a1)\n",
    "console.log(b1)"
   ]
  },
  {
   "cell_type": "markdown",
   "metadata": {},
   "source": [
    "### Another use of Destructuring"
   ]
  },
  {
   "cell_type": "code",
   "execution_count": 54,
   "metadata": {},
   "outputs": [
    {
     "name": "stdout",
     "output_type": "stream",
     "text": [
      "... ... ...\n",
      "[ 3, 4, 5, 6, 7, 8, 9, 10 ]\n",
      "\n"
     ]
    }
   ],
   "source": [
    "%%node\n",
    "const source = [1,2,3,4,5,6,7,8,9,10];\n",
    "function removeFirstTwo(list) {\n",
    "    const [, , ...arr] = list; //spread operator used to copy the rest. \n",
    "    return arr;\n",
    "}\n",
    "const arr = removeFirstTwo(source);\n",
    "console.log(arr)"
   ]
  },
  {
   "cell_type": "markdown",
   "metadata": {},
   "source": [
    "### Destructuring Assignment to Pass an Object as a Function's Parameters\n",
    "\n",
    "Below stats object passed in wholely but we use only two elements in half() function.  Insted of doing it like this we can pass in object destructuring directly inside the half function and so do not need to pull all the objects data but get only the data we need"
   ]
  },
  {
   "cell_type": "code",
   "execution_count": 55,
   "metadata": {},
   "outputs": [
    {
     "name": "stdout",
     "output_type": "stream",
     "text": [
      "... ... ... ...\n",
      "... ..... ..... ...\n",
      "28.375\n",
      "\n"
     ]
    }
   ],
   "source": [
    "%%node\n",
    "const stats = {\n",
    "    max : 56,\n",
    "    median: 34,\n",
    "    min: 0.75 \n",
    "}\n",
    "const half = (function() {\n",
    "    return function half(stats) {\n",
    "        return (stats.max + stats.min) / 2.0\n",
    "    }\n",
    "})();\n",
    "\n",
    "console.log(half(stats))"
   ]
  },
  {
   "cell_type": "markdown",
   "metadata": {},
   "source": [
    "Now we will only get the max and min elements when stats object is passed in to the half() function. This is especially important with API calls. When you are getting information from an AJAX request or API request it will often will have lot more information than what you need. and you can use destructuring to get the only things you want!"
   ]
  },
  {
   "cell_type": "code",
   "execution_count": 3,
   "metadata": {},
   "outputs": [
    {
     "name": "stdout",
     "output_type": "stream",
     "text": [
      "... ... ... ...\n",
      "... ..... ..... ...\n",
      "28.375\n",
      "\n"
     ]
    }
   ],
   "source": [
    "%%node\n",
    " const stats1 = {\n",
    "    max : 56,\n",
    "    median: 34,\n",
    "    min: 0.75 \n",
    "}\n",
    "const half = (function() {\n",
    "    return function half({ max, min }) {\n",
    "        return (stats1.max + stats1.min) / 2.0\n",
    "    }\n",
    "})();\n",
    "\n",
    "console.log(half(stats1))"
   ]
  },
  {
   "cell_type": "markdown",
   "metadata": {},
   "source": [
    "## 20 - Create Literals Using Template Literals \n",
    "- Use back ticks \\``\n",
    "- Multi line strings are possible\n",
    "- You don't need to escape double or single quaotation marks in your strings\n",
    "- You can put variables right inside the strings with `${person.name}` for example. person is an object and name is an   element of this object in\n",
    "  this example"
   ]
  },
  {
   "cell_type": "markdown",
   "metadata": {},
   "source": [
    "## 21 - Write Concise Object Literal Declerations Using Simple Fields"
   ]
  },
  {
   "cell_type": "code",
   "execution_count": 57,
   "metadata": {},
   "outputs": [
    {
     "name": "stdout",
     "output_type": "stream",
     "text": [
      "... ..... ..... ..... ..... ...\n"
     ]
    }
   ],
   "source": [
    "%%node\n",
    "  const createPerson = (name, age, gender) => {\n",
    "        return {\n",
    "            name: name, \n",
    "            age: age,\n",
    "            gender: gender\n",
    "        }\n",
    "    }"
   ]
  },
  {
   "cell_type": "markdown",
   "metadata": {},
   "source": [
    "above was the way we learned to create a js object with a function. \n",
    "instead of this we can do also "
   ]
  },
  {
   "cell_type": "code",
   "execution_count": 4,
   "metadata": {},
   "outputs": [],
   "source": [
    "%%node\n",
    "const createPerson1 = (name, age, gender) => ({name,age,gender})"
   ]
  },
  {
   "cell_type": "markdown",
   "metadata": {},
   "source": [
    "## 22 - Write Concise Declarative Functions "
   ]
  },
  {
   "cell_type": "code",
   "execution_count": 5,
   "metadata": {},
   "outputs": [
    {
     "name": "stdout",
     "output_type": "stream",
     "text": [
      "... ... ..... ..... ..... ...\n"
     ]
    }
   ],
   "source": [
    "%%node\n",
    "const bicycle = {\n",
    "    gear: 2,\n",
    "    setGear: function(newGear) {\n",
    "        \"use strict\";\n",
    "        this.gear = newGear;\n",
    "    }\n",
    "}\n",
    "bicycle.setGear(3)"
   ]
  },
  {
   "cell_type": "markdown",
   "metadata": {},
   "source": [
    "we can also do this without calling function! "
   ]
  },
  {
   "cell_type": "code",
   "execution_count": 6,
   "metadata": {},
   "outputs": [],
   "source": [
    "%%node\n",
    "const bicycle = {\n",
    "    gear: 2,\n",
    "    setGear:(newGear) {\n",
    "        \"use strict\";\n",
    "        this.gear = newGear;\n",
    "    }\n",
    "}\n",
    "bicycle.setGear(3)"
   ]
  },
  {
   "cell_type": "markdown",
   "metadata": {},
   "source": [
    "## 23 - Using class Syntax to Define a Constructor Function"
   ]
  },
  {
   "cell_type": "code",
   "execution_count": 7,
   "metadata": {},
   "outputs": [],
   "source": [
    "%%node\n",
    "function makeClass() {\n",
    "    class Vegetable {\n",
    "        constructor(name){\n",
    "            this.name = name\n",
    "        }\n",
    "    }\n",
    "    return Vegetable\n",
    "}\n",
    "\n",
    "const Vegetable = makeClass()\n",
    "const carrot = new Vegetable('carrot')\n",
    "console.log(carrot.name)"
   ]
  },
  {
   "cell_type": "markdown",
   "metadata": {},
   "source": [
    "## 24 - Use getters and setters to Control Access to an Object"
   ]
  },
  {
   "cell_type": "code",
   "execution_count": 63,
   "metadata": {},
   "outputs": [],
   "source": [
    "%%node\n",
    "class Book {\n",
    "    constructor(author) {\n",
    "        this._author = author; // this means that you are creating a private variable that is accesible within the \n",
    "        // scope of this code. by convention this variables start with _notation\n",
    "    }\n",
    "    // getter\n",
    "    get writer(){\n",
    "        return this._author;\n",
    "    }\n",
    "    // setter\n",
    "    set writer(UpdatedAuthor){\n",
    "        this._author = updatedAuthor;\n",
    "    }\n",
    "}"
   ]
  },
  {
   "cell_type": "markdown",
   "metadata": {},
   "source": [
    "## 25 - Import and Export vs Require\n",
    "\n",
    "    export const capitalizeString  = (string) => ....// function to be exportable to another file. \n",
    "    import { capitalizeString } from \"./string_function\" the file name\n",
    "    \n",
    "    export a variable : export const foo = \"bar\"\n",
    "    exporting a function another way : export {capitalizeString}\n",
    "    \n",
    "    import everything from a file : import * as capitalizeStrings from \"capitalizeStrings\"\n",
    "    export default function ..... : you gonna only export this from this file\n",
    "    import subtract from \"math_functions\" notice you did not need the curly brackets to import an export default function"
   ]
  },
  {
   "cell_type": "markdown",
   "metadata": {},
   "source": [
    "# Thank You! \n",
    "\n",
    "Please let me know any typos or suggestions regarding the notebook. "
   ]
  }
 ],
 "metadata": {
  "kernelspec": {
   "display_name": "Python 3",
   "language": "python",
   "name": "python3"
  },
  "language_info": {
   "codemirror_mode": {
    "name": "ipython",
    "version": 3
   },
   "file_extension": ".py",
   "mimetype": "text/x-python",
   "name": "python",
   "nbconvert_exporter": "python",
   "pygments_lexer": "ipython3",
   "version": "3.7.1"
  }
 },
 "nbformat": 4,
 "nbformat_minor": 2
}
