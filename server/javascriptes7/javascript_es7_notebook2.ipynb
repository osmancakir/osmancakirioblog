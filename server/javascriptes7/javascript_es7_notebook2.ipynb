{
 "cells": [
  {
   "cell_type": "raw",
   "metadata": {},
   "source": [
    "---\n",
    "title: \"Javascript ES7 Learning Notebooks - 2\"\n",
    "author: \"Osman Cakir\"\n",
    "date: 2019-07-04\n",
    "description: \"Javascript ES7 Functionalities\"\n",
    "type: technical_note\n",
    "draft: false\n",
    "---"
   ]
  },
  {
   "cell_type": "markdown",
   "metadata": {},
   "source": [
    "Let's continue where we left off."
   ]
  },
  {
   "cell_type": "markdown",
   "metadata": {},
   "source": [
    "# Contents\n",
    "\n",
    "8 - Arrays\n",
    "         * Store Data in Arrays\n",
    "         * Nested Arrays : Multidimensional Arrays\n",
    "         * Access Data in Arrays with Indexes\n",
    "         * Arrays are Mutable\n",
    "         * Manipulating Arrays\n",
    "             push()\n",
    "             pop()\n",
    "             shift()\n",
    "             unshift()\n",
    " 9 - Functions\n",
    "         * A Simple Function\n",
    "         * Global Scopes and Functions\n",
    "         * Local Scopes and Functions\n",
    "         * Understanding Undefined Value Returned From A Function\n",
    "         * Assignment with A Returned Value\n",
    "         * Stand in Line.\n",
    " 10 - Logical Operators and If Statements\n",
    "         * Strict Equals\n",
    "         * Other Operators\n",
    "         * Switch Statements\n",
    "         * Returning Early Pattern From Functions\n"
   ]
  },
  {
   "cell_type": "code",
   "execution_count": 1,
   "metadata": {},
   "outputs": [
    {
     "name": "stdout",
     "output_type": "stream",
     "text": [
      "Pixiedust database opened successfully\n"
     ]
    },
    {
     "data": {
      "text/html": [
       "\n",
       "        <div style=\"margin:10px\">\n",
       "            <a href=\"https://github.com/ibm-watson-data-lab/pixiedust\" target=\"_new\">\n",
       "                <img src=\"https://github.com/ibm-watson-data-lab/pixiedust/raw/master/docs/_static/pd_icon32.png\" style=\"float:left;margin-right:10px\"/>\n",
       "            </a>\n",
       "            <span>Pixiedust version 1.1.17</span>\n",
       "        </div>\n",
       "        "
      ],
      "text/plain": [
       "<IPython.core.display.HTML object>"
      ]
     },
     "metadata": {},
     "output_type": "display_data"
    },
    {
     "data": {
      "text/html": [
       "\n",
       "            <div style=\"margin:10px\"> \n",
       "            <a href=\"https://github.com/ibm-cds-labs/pixiedust_node\" target=\"_new\"> \n",
       "            <img src=\"https://github.com/ibm-cds-labs/pixiedust_node/raw/master/docs/_images/pdn_icon32.png\" style=\"float:left;margin-right:10px\"/> \n",
       "            </a> \n",
       "            <span>Pixiedust Node.js</span> \n",
       "            </div> \n"
      ],
      "text/plain": [
       "<IPython.core.display.HTML object>"
      ]
     },
     "metadata": {},
     "output_type": "display_data"
    },
    {
     "name": "stdout",
     "output_type": "stream",
     "text": [
      "pixiedust_node 0.2.5 started. Cells starting '%%node' may contain Node.js code.\n"
     ]
    }
   ],
   "source": [
    "import pixiedust\n",
    "import pixiedust_node"
   ]
  },
  {
   "cell_type": "markdown",
   "metadata": {},
   "source": [
    "## 8 -  Arrays "
   ]
  },
  {
   "cell_type": "markdown",
   "metadata": {},
   "source": [
    "* **Store Data in Arrays**"
   ]
  },
  {
   "cell_type": "code",
   "execution_count": 2,
   "metadata": {},
   "outputs": [],
   "source": [
    "%%node\n",
    "var ourArray = [\"john\", 23];"
   ]
  },
  {
   "cell_type": "markdown",
   "metadata": {},
   "source": [
    "* **Nested Arrays : multidimensional array** "
   ]
  },
  {
   "cell_type": "code",
   "execution_count": 3,
   "metadata": {},
   "outputs": [],
   "source": [
    "%%node\n",
    "var ourArray2 = [[\"the universe\", 42], [\"everything\", 101010]];"
   ]
  },
  {
   "cell_type": "markdown",
   "metadata": {},
   "source": [
    "* **Access Data in Arrays Data with Indexes**"
   ]
  },
  {
   "cell_type": "code",
   "execution_count": 6,
   "metadata": {},
   "outputs": [
    {
     "name": "stdout",
     "output_type": "stream",
     "text": [
      "[ 'the universe', 42 ]\n"
     ]
    }
   ],
   "source": [
    "%%node\n",
    "var ourArray3 = [50, 60, 70];\n",
    "var ourData = ourArray2[0];\n",
    "console.log(ourData)"
   ]
  },
  {
   "cell_type": "markdown",
   "metadata": {},
   "source": [
    "* **Access elements in nested arrays** "
   ]
  },
  {
   "cell_type": "code",
   "execution_count": 7,
   "metadata": {},
   "outputs": [
    {
     "name": "stdout",
     "output_type": "stream",
     "text": [
      "the universe\n"
     ]
    }
   ],
   "source": [
    "%%node\n",
    "var ourData2 = ourArray2[0][0];\n",
    "console.log(ourData2)"
   ]
  },
  {
   "cell_type": "markdown",
   "metadata": {},
   "source": [
    "* **Strings were immutable but arrays are mutable.** "
   ]
  },
  {
   "cell_type": "code",
   "execution_count": 8,
   "metadata": {},
   "outputs": [
    {
     "name": "stdout",
     "output_type": "stream",
     "text": [
      "[ 50, 45, 70 ]\n",
      "\n"
     ]
    }
   ],
   "source": [
    "%%node\n",
    "ourArray3[1] = 45;\n",
    "console.log(ourArray3) // pay attention to (30 -> 45) change in ourArray3"
   ]
  },
  {
   "cell_type": "markdown",
   "metadata": {},
   "source": [
    "* **Manipulate Arrays with push()**"
   ]
  },
  {
   "cell_type": "code",
   "execution_count": 9,
   "metadata": {},
   "outputs": [
    {
     "name": "stdout",
     "output_type": "stream",
     "text": [
      "[ 'john', 23, 'happy' ]\n",
      "[ 'john', 23, 'happy', [ 'cheerful', 40 ] ]\n"
     ]
    }
   ],
   "source": [
    "%%node\n",
    "ourArray.push(\"happy\")\n",
    "console.log(ourArray)\n",
    "ourArray.push([\"cheerful\", 40])\n",
    "console.log(ourArray)"
   ]
  },
  {
   "cell_type": "markdown",
   "metadata": {},
   "source": [
    "* **Anologously;**\n",
    "    * Manipulate Arrays with pop() : last element goes\n",
    "    * Manipulate Arrays with shift() : first element goes.\n",
    "    * Manipulate Arrays with unshift() : adds element as the first element."
   ]
  },
  {
   "cell_type": "code",
   "execution_count": 10,
   "metadata": {},
   "outputs": [
    {
     "name": "stdout",
     "output_type": "stream",
     "text": [
      "[ 'cheerful', 40 ]\n",
      "[ 'john', 23, 'happy' ]\n",
      "john\n",
      "[ 'alexa', 23, 'happy' ]\n"
     ]
    }
   ],
   "source": [
    "%%node\n",
    "var removedFromArray = ourArray.pop()\n",
    "console.log(removedFromArray)\n",
    "console.log(ourArray)\n",
    "console.log(ourArray.shift())\n",
    "ourArray.unshift((\"alexa\"))\n",
    "console.log(ourArray)"
   ]
  },
  {
   "cell_type": "markdown",
   "metadata": {},
   "source": [
    "## 9 - Functions"
   ]
  },
  {
   "cell_type": "markdown",
   "metadata": {},
   "source": [
    "* **A Simple Function With Arguments**\n",
    "\n",
    "Below function will take the difference of its 2 arguments.\n"
   ]
  },
  {
   "cell_type": "code",
   "execution_count": 11,
   "metadata": {},
   "outputs": [
    {
     "name": "stdout",
     "output_type": "stream",
     "text": [
      "... ...\n",
      "5\n",
      "\n"
     ]
    }
   ],
   "source": [
    "%%node\n",
    "function ourFunctionWithArguments(a,b) {\n",
    "    console.log(a-b);\n",
    "}\n",
    "ourFunctionWithArguments(10,5) "
   ]
  },
  {
   "cell_type": "markdown",
   "metadata": {},
   "source": [
    "### Global scope and functions: \n",
    "    - variables that are defined outside a function block have global scope\n",
    "    - variables that are defined inside a function with var keyword has limited scope. \n",
    "    - if you define a variable inside a function but without using the var keyword, that variable\n",
    "      becomes automatically global scope."
   ]
  },
  {
   "cell_type": "markdown",
   "metadata": {},
   "source": [
    "###  Local Scopes and Functions\n",
    "\n",
    "    function myLocalScope() {\n",
    "        var myVar = 5;\n",
    "        console.log(myVar);\n",
    "    }\n",
    "    myLocalScope(); // will output 5 \n",
    "    console.log(myVar); // will give me an error. Becuase myVar has a local scope. it is not callable\n",
    "\n",
    "You can have a global and local scope variables with the same name!"
   ]
  },
  {
   "cell_type": "code",
   "execution_count": 12,
   "metadata": {},
   "outputs": [
    {
     "name": "stdout",
     "output_type": "stream",
     "text": [
      "... ... ...\n",
      "5\n",
      "\n",
      "ReferenceError: myVar is not defined\n"
     ]
    }
   ],
   "source": [
    "%%node\n",
    "    function myLocalScope() {\n",
    "        var myVar = 5;\n",
    "        console.log(myVar);\n",
    "    }\n",
    "    myLocalScope(); // will output 5 \n",
    "    console.log(myVar); // will give me an error. Becuase myVar has a local scope. it is not callable"
   ]
  },
  {
   "cell_type": "markdown",
   "metadata": {},
   "source": [
    "### Understanding Undefined Value Returned from a Function.\n",
    "\n",
    "   * funtions can have return statements but they don't have to\n",
    "                var sum = 0;\n",
    "                function addThree() {\n",
    "                    sum = sum + 3;\n",
    "                }\n",
    "   * if you don't specify return value it is going to be undefined. \n",
    "   \n",
    "                function addFive() {\n",
    "                    sum = sum += 5;\n",
    "                }\n",
    "   * so if we log this out it would be undefined! \n",
    "    "
   ]
  },
  {
   "cell_type": "markdown",
   "metadata": {},
   "source": [
    "### Assignment with a Returned Value\n",
    "        var processed = 0; \n",
    "        function processedArg(num) {\n",
    "            return (num+3)/2;\n",
    "        }\n",
    "        processed = processedArg(7);\n",
    "* processed is changed to 5!"
   ]
  },
  {
   "cell_type": "code",
   "execution_count": 13,
   "metadata": {},
   "outputs": [
    {
     "name": "stdout",
     "output_type": "stream",
     "text": [
      "... ...\n",
      "5\n",
      "\n"
     ]
    }
   ],
   "source": [
    "%%node\n",
    "var processed = 0; \n",
    "function processedArg(num) {\n",
    "    return (num+3)/2;\n",
    "}\n",
    "processed = processedArg(7);\n",
    "console.log(processed)"
   ]
  },
  {
   "cell_type": "markdown",
   "metadata": {},
   "source": [
    "### Stand in Line \n",
    "    \n",
    "In computer science a cue is an abstract data structure where items are kept in order. New items can be added to the back of the cue and old items can be removed from the front. "
   ]
  },
  {
   "cell_type": "code",
   "execution_count": 14,
   "metadata": {},
   "outputs": [
    {
     "name": "stdout",
     "output_type": "stream",
     "text": [
      "... ... ...\n",
      "Before: [1,2,3,4,5]\n",
      "1\n",
      "\n",
      "After: [2,3,4,5,6]\n"
     ]
    }
   ],
   "source": [
    "%%node\n",
    "function nextInLine(arr,item){\n",
    "    arr.push(item)\n",
    "    return arr.shift()\n",
    "}\n",
    "var testArr = [1,2,3,4,5]\n",
    "console.log(\"Before: \" + JSON.stringify(testArr));\n",
    "console.log(nextInLine(testArr,6));\n",
    "console.log(\"After: \"+ JSON.stringify(testArr)); "
   ]
  },
  {
   "cell_type": "markdown",
   "metadata": {},
   "source": [
    "## 10 - Logical Operators and if Statements"
   ]
  },
  {
   "cell_type": "code",
   "execution_count": 15,
   "metadata": {},
   "outputs": [
    {
     "name": "stdout",
     "output_type": "stream",
     "text": [
      "... ..... ..... ... ...\n",
      "Not Equal\n"
     ]
    }
   ],
   "source": [
    "%%node\n",
    "function testEqual(val) {\n",
    "    if (val == 12) {\n",
    "        return \"Equal\"\n",
    "    }\n",
    "    return \"Not Equal\";\n",
    "}\n",
    "console.log(testEqual(10))"
   ]
  },
  {
   "cell_type": "markdown",
   "metadata": {},
   "source": [
    "### Strict Equals \n",
    "* '==' operator can check 3 == '3' and can tell true. Because it can convert the string to a number. \n",
    "* '===' Strictly Equal Operator doesn't convert any value."
   ]
  },
  {
   "cell_type": "code",
   "execution_count": 16,
   "metadata": {},
   "outputs": [
    {
     "name": "stdout",
     "output_type": "stream",
     "text": [
      "... ..... ..... ... ...\n",
      "Not Equal\n"
     ]
    }
   ],
   "source": [
    "%%node\n",
    "function testStrict(val) {\n",
    "    if (val === 12) {\n",
    "        return \"Equal\"\n",
    "    }\n",
    "    return \"Not Equal\";\n",
    "}\n",
    "console.log(testStrict('12'))"
   ]
  },
  {
   "cell_type": "markdown",
   "metadata": {},
   "source": [
    "### Other Operators \n",
    "\n",
    "    * inequality operator: !=  (it also does type converting) strict inequality operator : !==\n",
    "    * greater than > and < and >= <=\n",
    "    * logical operators and : &&  or : || \n",
    "    * else statement: else {}\n",
    "    * else if statement: else if {}"
   ]
  },
  {
   "cell_type": "code",
   "execution_count": 17,
   "metadata": {},
   "outputs": [
    {
     "name": "stdout",
     "output_type": "stream",
     "text": [
      "... ..... ..... ..... ..... ... ..... ..... ...\n",
      "between 5 and 10\n"
     ]
    }
   ],
   "source": [
    "%%node\n",
    "function testElseIf(val) {\n",
    "    if (val > 10) {\n",
    "        return 'greater than 10';\n",
    "    }   else if (val < 5) {\n",
    "        return 'smaller than 5';\n",
    "    }\n",
    "        else {\n",
    "        return 'between 5 and 10'\n",
    "    }\n",
    "}\n",
    "console.log(testElseIf(7))\n",
    "// order in logical statements: be careful above! "
   ]
  },
  {
   "cell_type": "markdown",
   "metadata": {},
   "source": [
    "### Switch statements: instead of a chained elseif statements we can use a switch statement."
   ]
  },
  {
   "cell_type": "code",
   "execution_count": 18,
   "metadata": {},
   "outputs": [
    {
     "name": "stdout",
     "output_type": "stream",
     "text": [
      "... ... ..... ..... ..... ..... ..... ..... ..... ..... ..... ..... ... ...\n",
      "alpha\n"
     ]
    }
   ],
   "source": [
    "%%node\n",
    "function caseInSwitch(val) {\n",
    "    var answer = \"\";\n",
    "    switch(val) {\n",
    "        case 1: // works as strictly equal!\n",
    "        answer = \"alpha\"\n",
    "        break; // breaks are important otherwise will continue to assign below.\n",
    "        case 2:\n",
    "        answer = \"beta\"\n",
    "        break;\n",
    "        default: //adds a default option for cases outside switch \n",
    "        answer = \"stuff\"\n",
    "        break;\n",
    "    }\n",
    "    return answer;\n",
    "}\n",
    "\n",
    "console.log(caseInSwitch(1))\n",
    "// when you want to give the same output for different cases just take out the break between those cases."
   ]
  },
  {
   "cell_type": "markdown",
   "metadata": {},
   "source": [
    "### Returning Early Pattern From Functions."
   ]
  },
  {
   "cell_type": "code",
   "execution_count": 19,
   "metadata": {},
   "outputs": [
    {
     "name": "stdout",
     "output_type": "stream",
     "text": [
      "... ..... ..... ..... ... ...\n",
      "5\n",
      "\n"
     ]
    }
   ],
   "source": [
    "%%node\n",
    "function abTest(a,b) {\n",
    "    if (a < 0 || b < 0) {\n",
    "        return undefined;\n",
    "        \n",
    "    }\n",
    "    return 5\n",
    "}\n",
    "console.log(abTest(2,3))"
   ]
  },
  {
   "cell_type": "markdown",
   "metadata": {},
   "source": [
    "______\n",
    "### Continue to Notebook 3 :)"
   ]
  }
 ],
 "metadata": {
  "kernelspec": {
   "display_name": "Python 3",
   "language": "python",
   "name": "python3"
  },
  "language_info": {
   "codemirror_mode": {
    "name": "ipython",
    "version": 3
   },
   "file_extension": ".py",
   "mimetype": "text/x-python",
   "name": "python",
   "nbconvert_exporter": "python",
   "pygments_lexer": "ipython3",
   "version": "3.7.1"
  }
 },
 "nbformat": 4,
 "nbformat_minor": 2
}
